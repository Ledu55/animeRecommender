{
 "cells": [
  {
   "cell_type": "markdown",
   "id": "a45208be",
   "metadata": {},
   "source": [
    "# Anime Recommendation System\n",
    "### Predicting which animes you'll like\n",
    "---"
   ]
  },
  {
   "cell_type": "markdown",
   "id": "170f0a6a",
   "metadata": {},
   "source": [
    "## 1.0 Imports"
   ]
  },
  {
   "cell_type": "code",
   "execution_count": 66,
   "id": "f2ce48ac",
   "metadata": {},
   "outputs": [],
   "source": [
    "#Data extraction and manipulation\n",
    "import pandas as pd \n",
    "import pymysql as pml\n",
    "from sklearn.model_selection import train_test_split\n",
    "from sklearn.feature_extraction.text import TfidfVectorizer\n",
    "from scipy.sparse import hstack\n",
    "import numpy as np\n",
    "\n",
    "#Machine Learning Models\n",
    "from sklearn.tree import DecisionTreeClassifier\n",
    "from sklearn.ensemble import RandomForestClassifier\n",
    "\n",
    "#Evaluation Metrics\n",
    "from sklearn.metrics import roc_auc_score, average_precision_score\n",
    "\n",
    "#Data Visualization\n",
    "from sklearn.tree import plot_tree\n",
    "import matplotlib.pylab as plt\n",
    "import seaborn as sns"
   ]
  },
  {
   "cell_type": "markdown",
   "id": "2b249cbf",
   "metadata": {},
   "source": [
    "# 2.0 Helper Functions"
   ]
  },
  {
   "cell_type": "code",
   "execution_count": 67,
   "id": "a4c54e49",
   "metadata": {},
   "outputs": [],
   "source": [
    "# disable max columns limit\n",
    "pd.set_option('display.max_columns', 70)\n",
    "\n",
    "# sets to not crop long vlaues for rows\n",
    "pd.set_option(\"display.max_colwidth\", 70)\n",
    "\n",
    "# sets seaborn default style\n",
    "sns.set_style('white')"
   ]
  },
  {
   "cell_type": "markdown",
   "id": "ee337aef",
   "metadata": {},
   "source": [
    "# 3.0 Check the Dataset"
   ]
  },
  {
   "cell_type": "markdown",
   "id": "d5c565e9",
   "metadata": {},
   "source": [
    "## 3.1 Data Dictionary"
   ]
  },
  {
   "cell_type": "markdown",
   "id": "321a796b",
   "metadata": {},
   "source": [
    "The dataset that i am using is from the site myanimelist: https://myanimelist.net/topanime.php\n",
    "\n",
    "extracted via API, filtered and stored in a database on these notebooks: \n",
    "\n",
    "\n",
    " |  **Feature** \t|                  **Description**                 \t|\n",
    " |:------------:\t|:------------------------------------------------:\t|\n",
    " |   anime_id   \t|          An id that represents a animes          \t|\n",
    " |     title    \t|                  The anime title                 \t|\n",
    " |     genre    \t|              The main genre of anime             \t|\n",
    " |  mean_score  \t|          Average anime viewership score          \t|\n",
    " |  media_type  \t| Anime type (movie, tv, special, oca, ona, music) \t|\n",
    " | num_episodes \t|              The number of episodes              \t|\n",
    " |    picture   \t|       A link to view the anime front cover       \t|\n",
    " |    rating    \t|        Anime rating (pg_13, r, g, r+, pg)        \t|\n",
    " |  start_date  \t|                   Release date                   \t|\n",
    " |   end_date   \t|     Completion date (may be a expected date)     \t|\n",
    " |       y      \t|      My interest in anime (0 - no, 1 - yes)      \t| \n"
   ]
  },
  {
   "cell_type": "markdown",
   "id": "550580aa",
   "metadata": {},
   "source": [
    "## 3.2 Loading the dataset"
   ]
  },
  {
   "cell_type": "code",
   "execution_count": 68,
   "id": "ed8c27f7",
   "metadata": {},
   "outputs": [
    {
     "data": {
      "text/plain": [
       "(605, 11)"
      ]
     },
     "execution_count": 68,
     "metadata": {},
     "output_type": "execute_result"
    }
   ],
   "source": [
    "#Read the data with labels and load into a dataframe \n",
    "df_animes_with_labels = pd.read_csv('animes_with_label.csv', index_col=0)\n",
    "#keep only those with label\n",
    "df_animes_with_labels = df_animes_with_labels[df_animes_with_labels['y'].notnull()] \n",
    "df_animes_with_labels.shape"
   ]
  },
  {
   "cell_type": "code",
   "execution_count": 69,
   "id": "11b20369-aa5b-4f06-9621-351bc7fd1dc0",
   "metadata": {},
   "outputs": [
    {
     "data": {
      "text/plain": [
       "(200, 12)"
      ]
     },
     "execution_count": 69,
     "metadata": {},
     "output_type": "execute_result"
    }
   ],
   "source": [
    "#Creating a new dataframe with the new labeled data \n",
    "df_active_learning = pd.read_csv(\"active_label_done.csv\", index_col= 0)\n",
    "df_active_learning = df_active_learning[df_active_learning['y'].notnull()]\n",
    "df_active_learning.shape"
   ]
  },
  {
   "cell_type": "code",
   "execution_count": 70,
   "id": "7f821b3f-c005-4f12-968e-8b5677256c7d",
   "metadata": {},
   "outputs": [],
   "source": [
    "def data_split(X, y, test_size):\n",
    "    X_train, X_test, y_train, y_test = train_test_split(X, y, test_size=test_size,\n",
    "                                                        random_state=42)\n",
    "    return X_train, X_test, y_train, y_test\n",
    "\n",
    "def X_split(X, test_size):\n",
    "    X_train, X_test = train_test_split(X, test_size=test_size,\n",
    "                                                        random_state=42)\n",
    "    return X_train, X_test"
   ]
  },
  {
   "cell_type": "code",
   "execution_count": 71,
   "id": "e234f6f7-c613-4bbf-bb5a-19ffbafd300e",
   "metadata": {},
   "outputs": [],
   "source": [
    "def word_vectorizer(word_train, word_test, min_df):\n",
    "    word_vec = TfidfVectorizer(min_df= min_df)\n",
    "    word_bow_train = word_vec.fit_transform(word_train)\n",
    "    word_bow_test = word_vec.transform(word_test)\n",
    "    \n",
    "    return word_bow_train, word_bow_test"
   ]
  },
  {
   "cell_type": "code",
   "execution_count": 72,
   "id": "32611603-24c9-4eba-ad2f-b84c7843982b",
   "metadata": {},
   "outputs": [
    {
     "data": {
      "text/plain": [
       "((302, 2), (303, 2), (302,), (303,))"
      ]
     },
     "execution_count": 72,
     "metadata": {},
     "output_type": "execute_result"
    }
   ],
   "source": [
    "#Split the data with labels\n",
    "X = df_animes_with_labels[['mean_score', 'num_episodes']]\n",
    "y = df_animes_with_labels['y'].copy()\n",
    "\n",
    "X_train, X_test, y_train, y_test = data_split(X, y, 0.5)\n",
    "X_train.shape, X_test.shape, y_train.shape, y_test.shape"
   ]
  },
  {
   "cell_type": "code",
   "execution_count": 73,
   "id": "b2157c4e-fc84-42f9-b65c-0bf15eb0fb1c",
   "metadata": {},
   "outputs": [],
   "source": [
    "#Split the titles in training and test\n",
    "title_train, title_test = X_split(df_animes_with_labels['title'], 0.5)"
   ]
  },
  {
   "cell_type": "code",
   "execution_count": 74,
   "id": "1f2f7512-17d5-4e97-8f3c-3a8252964d5b",
   "metadata": {},
   "outputs": [],
   "source": [
    "title_bow_train, title_bow_test = word_vectorizer(title_train, title_test, 1)"
   ]
  },
  {
   "cell_type": "code",
   "execution_count": 75,
   "id": "6d259e8b-53a1-466f-ad6b-8f1fd3c0fad8",
   "metadata": {},
   "outputs": [],
   "source": [
    "Xtrain = hstack([X_train, title_bow_train])\n",
    "Xtest = hstack([X_test, title_bow_test])"
   ]
  },
  {
   "cell_type": "code",
   "execution_count": 76,
   "id": "fc6cf067-3b71-44ae-a721-ed99d56d0352",
   "metadata": {},
   "outputs": [],
   "source": [
    "#Concat the new data to test set\n",
    "X_test_plus = pd.concat([X_test, df_active_learning[['mean_score', 'num_episodes']]])\n",
    "y_test_plus = pd.concat([y_test, df_active_learning['y']])\n",
    "title_test_plus = pd.concat([title_test, df_active_learning['title']])"
   ]
  },
  {
   "cell_type": "code",
   "execution_count": 77,
   "id": "dde74228-51c5-4cb0-8047-8f7b50e7c775",
   "metadata": {},
   "outputs": [],
   "source": [
    "title_bow_train, title_bow_test_plus = word_vectorizer(title_train, title_test_plus, 1)"
   ]
  },
  {
   "cell_type": "code",
   "execution_count": 78,
   "id": "6b69cfe7-8d70-43c1-90c0-64c036aaf3ab",
   "metadata": {},
   "outputs": [],
   "source": [
    "Xtest_plus = hstack([X_test_plus, title_bow_test_plus])"
   ]
  },
  {
   "cell_type": "code",
   "execution_count": 79,
   "id": "0b6cfc6c-27b3-4457-af6d-242f1700036a",
   "metadata": {},
   "outputs": [],
   "source": [
    "mdl = RandomForestClassifier(n_estimators = 1000, random_state= 0, class_weight=\"balanced\")\n",
    "mdl.fit(Xtrain, y_train)\n",
    "probability_score_test_plus = mdl.predict_proba(Xtest_plus)[:,1]"
   ]
  },
  {
   "cell_type": "code",
   "execution_count": 80,
   "id": "5667ccc9-b6b3-44ce-b3c4-926c75b689d5",
   "metadata": {},
   "outputs": [
    {
     "name": "stdout",
     "output_type": "stream",
     "text": [
      "0.6149893004819301 0.7838457336818696\n"
     ]
    }
   ],
   "source": [
    "print(average_precision_score(y_test_plus, probability_score_test_plus), \n",
    "      roc_auc_score(y_test_plus, probability_score_test_plus))"
   ]
  },
  {
   "cell_type": "code",
   "execution_count": 81,
   "id": "cd0492bd-fc77-44dd-9920-a5d52a41f772",
   "metadata": {},
   "outputs": [
    {
     "name": "stdout",
     "output_type": "stream",
     "text": [
      "0.4808257084083387 0.6906577971987048\n"
     ]
    }
   ],
   "source": [
    "#Testing min_samples_leaf = 2\n",
    "mdl = RandomForestClassifier(n_estimators = 1000, random_state= 0, min_samples_leaf=2, class_weight=\"balanced\")\n",
    "mdl.fit(Xtrain, y_train)\n",
    "probability_score_test_plus = mdl.predict_proba(Xtest_plus)[:,1]\n",
    "\n",
    "print(average_precision_score(y_test_plus, probability_score_test_plus), \n",
    "      roc_auc_score(y_test_plus, probability_score_test_plus))"
   ]
  },
  {
   "cell_type": "code",
   "execution_count": 82,
   "id": "b9d01905-e617-4c72-bdb1-fe1a976745e0",
   "metadata": {},
   "outputs": [
    {
     "name": "stdout",
     "output_type": "stream",
     "text": [
      "0.47144530034091076 0.6842300339432719\n"
     ]
    }
   ],
   "source": [
    "#Testing min_samples_leaf = 2 and n_estimator = 500\n",
    "mdl = RandomForestClassifier(n_estimators = 500, random_state= 0, min_samples_leaf=2, class_weight=\"balanced\")\n",
    "mdl.fit(Xtrain, y_train)\n",
    "probability_score_test_plus = mdl.predict_proba(Xtest_plus)[:,1]\n",
    "\n",
    "print(average_precision_score(y_test_plus, probability_score_test_plus), \n",
    "      roc_auc_score(y_test_plus, probability_score_test_plus))"
   ]
  },
  {
   "cell_type": "code",
   "execution_count": 83,
   "id": "ddc45355-1de4-4593-ac21-c314fa5c0c96",
   "metadata": {},
   "outputs": [
    {
     "name": "stdout",
     "output_type": "stream",
     "text": [
      "0.6876159471901129 0.8117611486091061\n"
     ]
    }
   ],
   "source": [
    "#Testing tfdfvectorizer ngram_range = (1,3)\n",
    "\n",
    "def word_vectorizer(word_train, word_test, min_df):\n",
    "    word_vec = TfidfVectorizer(min_df= min_df, ngram_range=(1,3))\n",
    "    word_bow_train = word_vec.fit_transform(word_train)\n",
    "    word_bow_test = word_vec.transform(word_test)\n",
    "    \n",
    "    return word_bow_train, word_bow_test\n",
    "\n",
    "#Split the titles in training and test\n",
    "title_train, title_test = X_split(df_animes_with_labels['title'], 0.5)\n",
    "\n",
    "title_bow_train, title_bow_test = word_vectorizer(title_train, title_test, 1)\n",
    "\n",
    "Xtrain = hstack([X_train, title_bow_train])\n",
    "Xtest = hstack([X_test, title_bow_test])\n",
    "\n",
    "#Concat the new data to test set\n",
    "X_test_plus = pd.concat([X_test, df_active_learning[['mean_score', 'num_episodes']]])\n",
    "y_test_plus = pd.concat([y_test, df_active_learning['y']])\n",
    "title_test_plus = pd.concat([title_test, df_active_learning['title']])\n",
    "\n",
    "title_bow_train, title_bow_test_plus = word_vectorizer(title_train, title_test_plus, 1)\n",
    "\n",
    "Xtest_plus = hstack([X_test_plus, title_bow_test_plus])\n",
    "\n",
    "mdl = RandomForestClassifier(n_estimators = 1000, random_state= 0, class_weight=\"balanced\")\n",
    "mdl.fit(Xtrain, y_train)\n",
    "probability_score_test_plus = mdl.predict_proba(Xtest_plus)[:,1]\n",
    "\n",
    "print(average_precision_score(y_test_plus, probability_score_test_plus), \n",
    "      roc_auc_score(y_test_plus, probability_score_test_plus))"
   ]
  },
  {
   "cell_type": "markdown",
   "id": "1b58f651-3565-4b95-b9de-036d00a68167",
   "metadata": {},
   "source": [
    "## LightGBM"
   ]
  },
  {
   "cell_type": "code",
   "execution_count": 84,
   "id": "d89c2465-6fa5-44e0-aa70-902cdc9e8343",
   "metadata": {},
   "outputs": [],
   "source": [
    "from lightgbm import LGBMClassifier"
   ]
  },
  {
   "cell_type": "code",
   "execution_count": 85,
   "id": "11a26c49-1588-44bc-9812-a8dee69e0182",
   "metadata": {},
   "outputs": [
    {
     "name": "stderr",
     "output_type": "stream",
     "text": [
      "C:\\Users\\Luís Eduardo\\AppData\\Local\\Packages\\PythonSoftwareFoundation.Python.3.9_qbz5n2kfra8p0\\LocalCache\\local-packages\\Python39\\site-packages\\lightgbm\\basic.py:859: UserWarning: Converting data to scipy sparse matrix.\n",
      "  _log_warning('Converting data to scipy sparse matrix.')\n"
     ]
    }
   ],
   "source": [
    "mdl = LGBMClassifier(random_state=0, class_weight= 'balanced', n_jobs=6)\n",
    "mdl.fit(Xtrain, y_train)\n",
    "probability_score_test_plus = mdl.predict_proba(Xtest_plus)[:,1]"
   ]
  },
  {
   "cell_type": "code",
   "execution_count": 86,
   "id": "9b7ac7d5-358f-45a3-87f8-74b6a5677f4f",
   "metadata": {},
   "outputs": [
    {
     "name": "stdout",
     "output_type": "stream",
     "text": [
      "0.4263935604056547 0.6575533533611642\n"
     ]
    }
   ],
   "source": [
    "print(average_precision_score(y_test_plus, probability_score_test_plus), \n",
    "      roc_auc_score(y_test_plus, probability_score_test_plus))"
   ]
  },
  {
   "cell_type": "markdown",
   "id": "85cb1ec4-ad37-4924-be5e-ef35a4c60f53",
   "metadata": {},
   "source": [
    "## Bayesian Optimization"
   ]
  },
  {
   "cell_type": "code",
   "execution_count": 87,
   "id": "2d33048e-a0d7-4bec-9fc9-dcc8bb9c4a3e",
   "metadata": {},
   "outputs": [],
   "source": [
    "from skopt import forest_minimize"
   ]
  },
  {
   "cell_type": "code",
   "execution_count": 146,
   "id": "80627418-b675-4567-9728-97724546f41d",
   "metadata": {
    "collapsed": true,
    "jupyter": {
     "outputs_hidden": true
    },
    "tags": []
   },
   "outputs": [
    {
     "name": "stdout",
     "output_type": "stream",
     "text": [
      "Iteration No: 1 started. Evaluating function at random point.\n",
      "[0.009944912110647982, 5, 1, 0.4677107511929402, 0.49263223036174764, 272, 3, 1]\n",
      "[LightGBM] [Warning] bagging_freq is set=1, subsample_freq=0 will be ignored. Current value: bagging_freq=1\n"
     ]
    },
    {
     "name": "stderr",
     "output_type": "stream",
     "text": [
      "C:\\Users\\Luís Eduardo\\AppData\\Local\\Packages\\PythonSoftwareFoundation.Python.3.9_qbz5n2kfra8p0\\LocalCache\\local-packages\\Python39\\site-packages\\lightgbm\\basic.py:859: UserWarning: Converting data to scipy sparse matrix.\n",
      "  _log_warning('Converting data to scipy sparse matrix.')\n",
      "C:\\Users\\Luís Eduardo\\AppData\\Local\\Packages\\PythonSoftwareFoundation.Python.3.9_qbz5n2kfra8p0\\LocalCache\\local-packages\\Python39\\site-packages\\lightgbm\\basic.py:859: UserWarning: Converting data to scipy sparse matrix.\n",
      "  _log_warning('Converting data to scipy sparse matrix.')\n"
     ]
    },
    {
     "name": "stdout",
     "output_type": "stream",
     "text": [
      "0.7203484062268347\n",
      "Iteration No: 1 ended. Evaluation done at random point.\n",
      "Time taken: 0.3101\n",
      "Function value obtained: -0.5002\n",
      "Current minimum: -0.5002\n",
      "Iteration No: 2 started. Evaluating function at random point.\n",
      "[0.053887464791860025, 1, 15, 0.7437489153990157, 0.8675167974293533, 549, 3, 4]\n",
      "[LightGBM] [Warning] bagging_freq is set=1, subsample_freq=0 will be ignored. Current value: bagging_freq=1\n",
      "0.6912137645819516\n",
      "Iteration No: 2 ended. Evaluation done at random point.\n",
      "Time taken: 0.0908\n",
      "Function value obtained: -0.4697\n",
      "Current minimum: -0.5002\n",
      "Iteration No: 3 started. Evaluating function at random point.\n",
      "[0.004151454520895999, 6, 20, 0.8682075103820793, 0.9491436163200662, 411, 4, 3]\n",
      "[LightGBM] [Warning] bagging_freq is set=1, subsample_freq=0 will be ignored. Current value: bagging_freq=1\n"
     ]
    },
    {
     "name": "stderr",
     "output_type": "stream",
     "text": [
      "C:\\Users\\Luís Eduardo\\AppData\\Local\\Packages\\PythonSoftwareFoundation.Python.3.9_qbz5n2kfra8p0\\LocalCache\\local-packages\\Python39\\site-packages\\lightgbm\\basic.py:859: UserWarning: Converting data to scipy sparse matrix.\n",
      "  _log_warning('Converting data to scipy sparse matrix.')\n"
     ]
    },
    {
     "name": "stdout",
     "output_type": "stream",
     "text": [
      "0.672164566345441\n",
      "Iteration No: 3 ended. Evaluation done at random point.\n",
      "Time taken: 0.1027\n",
      "Function value obtained: -0.4806\n",
      "Current minimum: -0.5002\n",
      "Iteration No: 4 started. Evaluating function at random point.\n",
      "[0.0014099928811969545, 9, 9, 0.6502182010234373, 0.6866210554187129, 828, 5, 2]\n",
      "[LightGBM] [Warning] bagging_freq is set=1, subsample_freq=0 will be ignored. Current value: bagging_freq=1\n"
     ]
    },
    {
     "name": "stderr",
     "output_type": "stream",
     "text": [
      "C:\\Users\\Luís Eduardo\\AppData\\Local\\Packages\\PythonSoftwareFoundation.Python.3.9_qbz5n2kfra8p0\\LocalCache\\local-packages\\Python39\\site-packages\\lightgbm\\basic.py:859: UserWarning: Converting data to scipy sparse matrix.\n",
      "  _log_warning('Converting data to scipy sparse matrix.')\n",
      "C:\\Users\\Luís Eduardo\\AppData\\Local\\Packages\\PythonSoftwareFoundation.Python.3.9_qbz5n2kfra8p0\\LocalCache\\local-packages\\Python39\\site-packages\\lightgbm\\basic.py:859: UserWarning: Converting data to scipy sparse matrix.\n",
      "  _log_warning('Converting data to scipy sparse matrix.')\n"
     ]
    },
    {
     "name": "stdout",
     "output_type": "stream",
     "text": [
      "0.6751589871639812\n",
      "Iteration No: 4 ended. Evaluation done at random point.\n",
      "Time taken: 0.2803\n",
      "Function value obtained: -0.4497\n",
      "Current minimum: -0.5002\n",
      "Iteration No: 5 started. Evaluating function at random point.\n",
      "[0.08530558241838007, 8, 19, 0.2137736299768322, 0.1313765544201984, 961, 4, 1]\n",
      "[LightGBM] [Warning] bagging_freq is set=1, subsample_freq=0 will be ignored. Current value: bagging_freq=1\n",
      "0.6484140298856853\n",
      "Iteration No: 5 ended. Evaluation done at random point.\n",
      "Time taken: 0.1007\n",
      "Function value obtained: -0.4079\n",
      "Current minimum: -0.5002\n",
      "Iteration No: 6 started. Evaluating function at random point.\n",
      "[0.003567949451535685, 10, 19, 0.7232951768944309, 0.7298538828427115, 939, 4, 3]\n",
      "[LightGBM] [Warning] bagging_freq is set=1, subsample_freq=0 will be ignored. Current value: bagging_freq=1\n"
     ]
    },
    {
     "name": "stderr",
     "output_type": "stream",
     "text": [
      "C:\\Users\\Luís Eduardo\\AppData\\Local\\Packages\\PythonSoftwareFoundation.Python.3.9_qbz5n2kfra8p0\\LocalCache\\local-packages\\Python39\\site-packages\\lightgbm\\basic.py:859: UserWarning: Converting data to scipy sparse matrix.\n",
      "  _log_warning('Converting data to scipy sparse matrix.')\n"
     ]
    },
    {
     "name": "stdout",
     "output_type": "stream",
     "text": [
      "0.6789142054543327\n",
      "Iteration No: 6 ended. Evaluation done at random point.\n",
      "Time taken: 0.2802\n",
      "Function value obtained: -0.4869\n",
      "Current minimum: -0.5002\n",
      "Iteration No: 7 started. Evaluating function at random point.\n",
      "[0.014828577273549474, 7, 1, 0.18428087097824575, 0.3261556557915816, 274, 1, 2]\n",
      "[LightGBM] [Warning] bagging_freq is set=1, subsample_freq=0 will be ignored. Current value: bagging_freq=1\n"
     ]
    },
    {
     "name": "stderr",
     "output_type": "stream",
     "text": [
      "C:\\Users\\Luís Eduardo\\AppData\\Local\\Packages\\PythonSoftwareFoundation.Python.3.9_qbz5n2kfra8p0\\LocalCache\\local-packages\\Python39\\site-packages\\lightgbm\\basic.py:859: UserWarning: Converting data to scipy sparse matrix.\n",
      "  _log_warning('Converting data to scipy sparse matrix.')\n",
      "C:\\Users\\Luís Eduardo\\AppData\\Local\\Packages\\PythonSoftwareFoundation.Python.3.9_qbz5n2kfra8p0\\LocalCache\\local-packages\\Python39\\site-packages\\lightgbm\\basic.py:859: UserWarning: Converting data to scipy sparse matrix.\n",
      "  _log_warning('Converting data to scipy sparse matrix.')\n"
     ]
    },
    {
     "name": "stdout",
     "output_type": "stream",
     "text": [
      "0.7243084546057508\n",
      "Iteration No: 7 ended. Evaluation done at random point.\n",
      "Time taken: 0.3102\n",
      "Function value obtained: -0.5784\n",
      "Current minimum: -0.5784\n",
      "Iteration No: 8 started. Evaluating function at random point.\n",
      "[0.0015212976972079912, 3, 12, 0.44234694306528044, 0.399351303640462, 272, 3, 5]\n",
      "[LightGBM] [Warning] bagging_freq is set=1, subsample_freq=0 will be ignored. Current value: bagging_freq=1\n",
      "0.6778510397565448\n",
      "Iteration No: 8 ended. Evaluation done at random point.\n",
      "Time taken: 0.0688\n",
      "Function value obtained: -0.4689\n",
      "Current minimum: -0.5784\n",
      "Iteration No: 9 started. Evaluating function at random point.\n",
      "[0.01946212855369041, 9, 18, 0.5235636153223084, 0.6728679300083596, 747, 4, 5]\n",
      "[LightGBM] [Warning] bagging_freq is set=1, subsample_freq=0 will be ignored. Current value: bagging_freq=1\n"
     ]
    },
    {
     "name": "stderr",
     "output_type": "stream",
     "text": [
      "C:\\Users\\Luís Eduardo\\AppData\\Local\\Packages\\PythonSoftwareFoundation.Python.3.9_qbz5n2kfra8p0\\LocalCache\\local-packages\\Python39\\site-packages\\lightgbm\\basic.py:859: UserWarning: Converting data to scipy sparse matrix.\n",
      "  _log_warning('Converting data to scipy sparse matrix.')\n",
      "C:\\Users\\Luís Eduardo\\AppData\\Local\\Packages\\PythonSoftwareFoundation.Python.3.9_qbz5n2kfra8p0\\LocalCache\\local-packages\\Python39\\site-packages\\lightgbm\\basic.py:859: UserWarning: Converting data to scipy sparse matrix.\n",
      "  _log_warning('Converting data to scipy sparse matrix.')\n"
     ]
    },
    {
     "name": "stdout",
     "output_type": "stream",
     "text": [
      "0.672047520580547\n",
      "Iteration No: 9 ended. Evaluation done at random point.\n",
      "Time taken: 0.1606\n",
      "Function value obtained: -0.4825\n",
      "Current minimum: -0.5784\n",
      "Iteration No: 10 started. Evaluating function at random point.\n",
      "[0.0012116790683302117, 3, 2, 0.06616307483844217, 0.23025600705315752, 677, 2, 5]\n",
      "[LightGBM] [Warning] bagging_freq is set=1, subsample_freq=0 will be ignored. Current value: bagging_freq=1\n"
     ]
    },
    {
     "name": "stderr",
     "output_type": "stream",
     "text": [
      "C:\\Users\\Luís Eduardo\\AppData\\Local\\Packages\\PythonSoftwareFoundation.Python.3.9_qbz5n2kfra8p0\\LocalCache\\local-packages\\Python39\\site-packages\\lightgbm\\basic.py:859: UserWarning: Converting data to scipy sparse matrix.\n",
      "  _log_warning('Converting data to scipy sparse matrix.')\n",
      "C:\\Users\\Luís Eduardo\\AppData\\Local\\Packages\\PythonSoftwareFoundation.Python.3.9_qbz5n2kfra8p0\\LocalCache\\local-packages\\Python39\\site-packages\\lightgbm\\basic.py:859: UserWarning: Converting data to scipy sparse matrix.\n",
      "  _log_warning('Converting data to scipy sparse matrix.')\n"
     ]
    },
    {
     "name": "stdout",
     "output_type": "stream",
     "text": [
      "0.6857808903281183\n",
      "Iteration No: 10 ended. Evaluation done at random point.\n",
      "Time taken: 0.1945\n",
      "Function value obtained: -0.4754\n",
      "Current minimum: -0.5784\n",
      "Iteration No: 11 started. Evaluating function at random point.\n",
      "[0.0053139776214487944, 6, 9, 0.14251441334450304, 0.8175761405215897, 297, 1, 5]\n",
      "[LightGBM] [Warning] bagging_freq is set=1, subsample_freq=0 will be ignored. Current value: bagging_freq=1\n",
      "0.6619815847996566\n",
      "Iteration No: 11 ended. Evaluation done at random point.\n",
      "Time taken: 0.0878\n",
      "Function value obtained: -0.4442\n",
      "Current minimum: -0.5784\n",
      "Iteration No: 12 started. Evaluating function at random point.\n",
      "[0.0068572961982704935, 10, 5, 0.2390386584472456, 0.49053406102209746, 176, 2, 4]\n",
      "[LightGBM] [Warning] bagging_freq is set=1, subsample_freq=0 will be ignored. Current value: bagging_freq=1\n",
      "0.6854297530334361\n",
      "Iteration No: 12 ended. Evaluation done at random point.\n",
      "Time taken: 0.0908\n",
      "Function value obtained: -0.4600\n",
      "Current minimum: -0.5784\n",
      "Iteration No: 13 started. Evaluating function at random point.\n",
      "[0.00781968225875022, 3, 4, 0.7078936710077383, 0.31818755505678337, 275, 4, 4]\n",
      "[LightGBM] [Warning] bagging_freq is set=1, subsample_freq=0 will be ignored. Current value: bagging_freq=1"
     ]
    },
    {
     "name": "stderr",
     "output_type": "stream",
     "text": [
      "C:\\Users\\Luís Eduardo\\AppData\\Local\\Packages\\PythonSoftwareFoundation.Python.3.9_qbz5n2kfra8p0\\LocalCache\\local-packages\\Python39\\site-packages\\lightgbm\\basic.py:859: UserWarning: Converting data to scipy sparse matrix.\n",
      "  _log_warning('Converting data to scipy sparse matrix.')\n",
      "C:\\Users\\Luís Eduardo\\AppData\\Local\\Packages\\PythonSoftwareFoundation.Python.3.9_qbz5n2kfra8p0\\LocalCache\\local-packages\\Python39\\site-packages\\lightgbm\\basic.py:859: UserWarning: Converting data to scipy sparse matrix.\n",
      "  _log_warning('Converting data to scipy sparse matrix.')\n"
     ]
    },
    {
     "name": "stdout",
     "output_type": "stream",
     "text": [
      "\n",
      "0.6810405368499084\n",
      "Iteration No: 13 ended. Evaluation done at random point.\n",
      "Time taken: 0.0768\n",
      "Function value obtained: -0.4638\n",
      "Current minimum: -0.5784\n",
      "Iteration No: 14 started. Evaluating function at random point.\n",
      "[0.017293945600511968, 2, 15, 0.9007557574888567, 0.41026441194439994, 316, 5, 1]\n",
      "[LightGBM] [Warning] bagging_freq is set=1, subsample_freq=0 will be ignored. Current value: bagging_freq=1\n",
      "0.6884826967344231\n",
      "Iteration No: 14 ended. Evaluation done at random point.\n",
      "Time taken: 0.0668\n",
      "Function value obtained: -0.4623\n",
      "Current minimum: -0.5784\n",
      "Iteration No: 15 started. Evaluating function at random point.\n",
      "[0.012250750764764855, 8, 6, 0.5976582413192033, 0.2474882432951916, 516, 4, 4]\n",
      "[LightGBM] [Warning] bagging_freq is set=1, subsample_freq=0 will be ignored. Current value: bagging_freq=1\n"
     ]
    },
    {
     "name": "stderr",
     "output_type": "stream",
     "text": [
      "C:\\Users\\Luís Eduardo\\AppData\\Local\\Packages\\PythonSoftwareFoundation.Python.3.9_qbz5n2kfra8p0\\LocalCache\\local-packages\\Python39\\site-packages\\lightgbm\\basic.py:859: UserWarning: Converting data to scipy sparse matrix.\n",
      "  _log_warning('Converting data to scipy sparse matrix.')\n",
      "C:\\Users\\Luís Eduardo\\AppData\\Local\\Packages\\PythonSoftwareFoundation.Python.3.9_qbz5n2kfra8p0\\LocalCache\\local-packages\\Python39\\site-packages\\lightgbm\\basic.py:859: UserWarning: Converting data to scipy sparse matrix.\n",
      "  _log_warning('Converting data to scipy sparse matrix.')\n",
      "C:\\Users\\Luís Eduardo\\AppData\\Local\\Packages\\PythonSoftwareFoundation.Python.3.9_qbz5n2kfra8p0\\LocalCache\\local-packages\\Python39\\site-packages\\lightgbm\\basic.py:859: UserWarning: Converting data to scipy sparse matrix.\n",
      "  _log_warning('Converting data to scipy sparse matrix.')\n"
     ]
    },
    {
     "name": "stdout",
     "output_type": "stream",
     "text": [
      "0.6473801256291211\n",
      "Iteration No: 15 ended. Evaluation done at random point.\n",
      "Time taken: 0.1805\n",
      "Function value obtained: -0.4069\n",
      "Current minimum: -0.5784\n",
      "Iteration No: 16 started. Evaluating function at random point.\n",
      "[0.018353598126553926, 4, 3, 0.47305622526323254, 0.1404164811277527, 133, 4, 1]\n",
      "[LightGBM] [Warning] bagging_freq is set=1, subsample_freq=0 will be ignored. Current value: bagging_freq=1\n",
      "0.6726327494050173\n",
      "Iteration No: 16 ended. Evaluation done at random point.\n",
      "Time taken: 0.0588\n",
      "Function value obtained: -0.4743\n",
      "Current minimum: -0.5784\n",
      "Iteration No: 17 started. Evaluating function at random point.\n",
      "[0.0010383234748454694, 9, 19, 0.9256771571832196, 0.9321438677645206, 312, 4, 3]\n",
      "[LightGBM] [Warning] bagging_freq is set=1, subsample_freq=0 will be ignored. Current value: bagging_freq=1\n",
      "0.6504818383988139\n",
      "Iteration No: 17 ended. Evaluation done at random point.\n",
      "Time taken: 0.1067\n",
      "Function value obtained: -0.4417\n",
      "Current minimum: -0.5784\n",
      "Iteration No: 18 started. Evaluating function at random point.\n",
      "[0.004955229758078229, 5, 5, 0.06939551310802591, 0.4193273080472823, 725, 4, 1]\n",
      "[LightGBM] [Warning] bagging_freq is set=1, subsample_freq=0 will be ignored. Current value: bagging_freq=1"
     ]
    },
    {
     "name": "stderr",
     "output_type": "stream",
     "text": [
      "C:\\Users\\Luís Eduardo\\AppData\\Local\\Packages\\PythonSoftwareFoundation.Python.3.9_qbz5n2kfra8p0\\LocalCache\\local-packages\\Python39\\site-packages\\lightgbm\\basic.py:859: UserWarning: Converting data to scipy sparse matrix.\n",
      "  _log_warning('Converting data to scipy sparse matrix.')\n"
     ]
    },
    {
     "name": "stdout",
     "output_type": "stream",
     "text": [
      "\n",
      "0.6574460614100114\n",
      "Iteration No: 18 ended. Evaluation done at random point.\n",
      "Time taken: 0.1047\n",
      "Function value obtained: -0.4520\n",
      "Current minimum: -0.5784\n",
      "Iteration No: 19 started. Evaluating function at random point.\n",
      "[0.0699516121742407, 9, 10, 0.6477856515609233, 0.8594430701440198, 616, 1, 1]\n",
      "[LightGBM] [Warning] bagging_freq is set=1, subsample_freq=0 will be ignored. Current value: bagging_freq=1\n"
     ]
    },
    {
     "name": "stderr",
     "output_type": "stream",
     "text": [
      "C:\\Users\\Luís Eduardo\\AppData\\Local\\Packages\\PythonSoftwareFoundation.Python.3.9_qbz5n2kfra8p0\\LocalCache\\local-packages\\Python39\\site-packages\\lightgbm\\basic.py:859: UserWarning: Converting data to scipy sparse matrix.\n",
      "  _log_warning('Converting data to scipy sparse matrix.')\n"
     ]
    },
    {
     "name": "stdout",
     "output_type": "stream",
     "text": [
      "0.6402208263431001\n",
      "Iteration No: 19 ended. Evaluation done at random point.\n",
      "Time taken: 0.2134\n",
      "Function value obtained: -0.3851\n",
      "Current minimum: -0.5784\n",
      "Iteration No: 20 started. Evaluating function at random point.\n",
      "[0.0014752743467850462, 5, 4, 0.9747950537021096, 0.982207187458162, 909, 2, 4]\n",
      "[LightGBM] [Warning] bagging_freq is set=1, subsample_freq=0 will be ignored. Current value: bagging_freq=1\n"
     ]
    },
    {
     "name": "stderr",
     "output_type": "stream",
     "text": [
      "C:\\Users\\Luís Eduardo\\AppData\\Local\\Packages\\PythonSoftwareFoundation.Python.3.9_qbz5n2kfra8p0\\LocalCache\\local-packages\\Python39\\site-packages\\lightgbm\\basic.py:859: UserWarning: Converting data to scipy sparse matrix.\n",
      "  _log_warning('Converting data to scipy sparse matrix.')\n"
     ]
    },
    {
     "name": "stdout",
     "output_type": "stream",
     "text": [
      "0.6419179899340642\n",
      "Iteration No: 20 ended. Evaluation done at random point.\n",
      "Time taken: 0.5136\n",
      "Function value obtained: -0.4169\n",
      "Current minimum: -0.5784\n",
      "Iteration No: 21 started. Searching for the next optimal point.\n",
      "[0.014630845775527177, 3, 1, 0.4439621581317118, 0.16536888986349557, 240, 2, 2]\n",
      "[LightGBM] [Warning] bagging_freq is set=1, subsample_freq=0 will be ignored. Current value: bagging_freq=1\n"
     ]
    },
    {
     "name": "stderr",
     "output_type": "stream",
     "text": [
      "C:\\Users\\Luís Eduardo\\AppData\\Local\\Packages\\PythonSoftwareFoundation.Python.3.9_qbz5n2kfra8p0\\LocalCache\\local-packages\\Python39\\site-packages\\lightgbm\\basic.py:859: UserWarning: Converting data to scipy sparse matrix.\n",
      "  _log_warning('Converting data to scipy sparse matrix.')\n"
     ]
    },
    {
     "name": "stdout",
     "output_type": "stream",
     "text": [
      "0.7322090437361009\n",
      "Iteration No: 21 ended. Search finished for the next optimal point.\n",
      "Time taken: 0.4328\n",
      "Function value obtained: -0.5054\n",
      "Current minimum: -0.5784\n",
      "Iteration No: 22 started. Searching for the next optimal point.\n",
      "[0.09367977466191704, 10, 1, 0.3747625359026133, 0.3632568406893375, 162, 2, 1]\n",
      "[LightGBM] [Warning] bagging_freq is set=1, subsample_freq=0 will be ignored. Current value: bagging_freq=1\n"
     ]
    },
    {
     "name": "stderr",
     "output_type": "stream",
     "text": [
      "C:\\Users\\Luís Eduardo\\AppData\\Local\\Packages\\PythonSoftwareFoundation.Python.3.9_qbz5n2kfra8p0\\LocalCache\\local-packages\\Python39\\site-packages\\lightgbm\\basic.py:859: UserWarning: Converting data to scipy sparse matrix.\n",
      "  _log_warning('Converting data to scipy sparse matrix.')\n"
     ]
    },
    {
     "name": "stdout",
     "output_type": "stream",
     "text": [
      "0.7425675939292263\n",
      "Iteration No: 22 ended. Search finished for the next optimal point.\n",
      "Time taken: 0.6074\n",
      "Function value obtained: -0.5542\n",
      "Current minimum: -0.5784\n",
      "Iteration No: 23 started. Searching for the next optimal point.\n",
      "[0.056045872522138745, 10, 1, 0.3544846355258283, 0.7872021923747273, 390, 2, 1]\n",
      "[LightGBM] [Warning] bagging_freq is set=1, subsample_freq=0 will be ignored. Current value: bagging_freq=1\n"
     ]
    },
    {
     "name": "stderr",
     "output_type": "stream",
     "text": [
      "C:\\Users\\Luís Eduardo\\AppData\\Local\\Packages\\PythonSoftwareFoundation.Python.3.9_qbz5n2kfra8p0\\LocalCache\\local-packages\\Python39\\site-packages\\lightgbm\\basic.py:859: UserWarning: Converting data to scipy sparse matrix.\n",
      "  _log_warning('Converting data to scipy sparse matrix.')\n"
     ]
    },
    {
     "name": "stdout",
     "output_type": "stream",
     "text": [
      "0.6991338613397838\n",
      "Iteration No: 23 ended. Search finished for the next optimal point.\n",
      "Time taken: 1.0412\n",
      "Function value obtained: -0.4789\n",
      "Current minimum: -0.5784\n",
      "Iteration No: 24 started. Searching for the next optimal point.\n",
      "[0.03169711632063249, 9, 1, 0.29258986373177887, 0.18479415219761008, 544, 2, 1]\n",
      "[LightGBM] [Warning] bagging_freq is set=1, subsample_freq=0 will be ignored. Current value: bagging_freq=1\n"
     ]
    },
    {
     "name": "stderr",
     "output_type": "stream",
     "text": [
      "C:\\Users\\Luís Eduardo\\AppData\\Local\\Packages\\PythonSoftwareFoundation.Python.3.9_qbz5n2kfra8p0\\LocalCache\\local-packages\\Python39\\site-packages\\lightgbm\\basic.py:859: UserWarning: Converting data to scipy sparse matrix.\n",
      "  _log_warning('Converting data to scipy sparse matrix.')\n"
     ]
    },
    {
     "name": "stdout",
     "output_type": "stream",
     "text": [
      "0.7624751277749601\n",
      "Iteration No: 24 ended. Search finished for the next optimal point.\n",
      "Time taken: 0.9141\n",
      "Function value obtained: -0.6250\n",
      "Current minimum: -0.6250\n",
      "Iteration No: 25 started. Searching for the next optimal point.\n",
      "[0.04220593701752512, 9, 1, 0.05777899118046498, 0.3451859028481066, 730, 2, 1]\n",
      "[LightGBM] [Warning] bagging_freq is set=1, subsample_freq=0 will be ignored. Current value: bagging_freq=1\n"
     ]
    },
    {
     "name": "stderr",
     "output_type": "stream",
     "text": [
      "C:\\Users\\Luís Eduardo\\AppData\\Local\\Packages\\PythonSoftwareFoundation.Python.3.9_qbz5n2kfra8p0\\LocalCache\\local-packages\\Python39\\site-packages\\lightgbm\\basic.py:859: UserWarning: Converting data to scipy sparse matrix.\n",
      "  _log_warning('Converting data to scipy sparse matrix.')\n"
     ]
    },
    {
     "name": "stdout",
     "output_type": "stream",
     "text": [
      "0.7325601810307829\n",
      "Iteration No: 25 ended. Search finished for the next optimal point.\n",
      "Time taken: 0.8165\n",
      "Function value obtained: -0.5755\n",
      "Current minimum: -0.6250\n",
      "Iteration No: 26 started. Searching for the next optimal point.\n",
      "[0.08360760623245106, 10, 1, 0.094686171960567, 0.16976906951670082, 751, 2, 1]\n",
      "[LightGBM] [Warning] bagging_freq is set=1, subsample_freq=0 will be ignored. Current value: bagging_freq=1\n"
     ]
    },
    {
     "name": "stderr",
     "output_type": "stream",
     "text": [
      "C:\\Users\\Luís Eduardo\\AppData\\Local\\Packages\\PythonSoftwareFoundation.Python.3.9_qbz5n2kfra8p0\\LocalCache\\local-packages\\Python39\\site-packages\\lightgbm\\basic.py:859: UserWarning: Converting data to scipy sparse matrix.\n",
      "  _log_warning('Converting data to scipy sparse matrix.')\n"
     ]
    },
    {
     "name": "stdout",
     "output_type": "stream",
     "text": [
      "0.7502926144122353\n",
      "Iteration No: 26 ended. Search finished for the next optimal point.\n",
      "Time taken: 0.9547\n",
      "Function value obtained: -0.5790\n",
      "Current minimum: -0.6250\n",
      "Iteration No: 27 started. Searching for the next optimal point.\n",
      "[0.09512642699731642, 8, 3, 0.2175840449302332, 0.06385779506370344, 706, 1, 1]\n",
      "[LightGBM] [Warning] bagging_freq is set=1, subsample_freq=0 will be ignored. Current value: bagging_freq=1\n",
      "0.6728278256798408\n"
     ]
    },
    {
     "name": "stderr",
     "output_type": "stream",
     "text": [
      "C:\\Users\\Luís Eduardo\\AppData\\Local\\Packages\\PythonSoftwareFoundation.Python.3.9_qbz5n2kfra8p0\\LocalCache\\local-packages\\Python39\\site-packages\\lightgbm\\basic.py:859: UserWarning: Converting data to scipy sparse matrix.\n",
      "  _log_warning('Converting data to scipy sparse matrix.')\n"
     ]
    },
    {
     "name": "stdout",
     "output_type": "stream",
     "text": [
      "Iteration No: 27 ended. Search finished for the next optimal point.\n",
      "Time taken: 0.4222\n",
      "Function value obtained: -0.4368\n",
      "Current minimum: -0.6250\n",
      "Iteration No: 28 started. Searching for the next optimal point.\n",
      "[0.07886687563185459, 8, 1, 0.05332338504830386, 0.19959977040464572, 944, 3, 1]\n",
      "[LightGBM] [Warning] bagging_freq is set=1, subsample_freq=0 will be ignored. Current value: bagging_freq=1\n"
     ]
    },
    {
     "name": "stderr",
     "output_type": "stream",
     "text": [
      "C:\\Users\\Luís Eduardo\\AppData\\Local\\Packages\\PythonSoftwareFoundation.Python.3.9_qbz5n2kfra8p0\\LocalCache\\local-packages\\Python39\\site-packages\\lightgbm\\basic.py:859: UserWarning: Converting data to scipy sparse matrix.\n",
      "  _log_warning('Converting data to scipy sparse matrix.')\n"
     ]
    },
    {
     "name": "stdout",
     "output_type": "stream",
     "text": [
      "0.7399730794740743\n",
      "Iteration No: 28 ended. Search finished for the next optimal point.\n",
      "Time taken: 0.7852\n",
      "Function value obtained: -0.5743\n",
      "Current minimum: -0.6250\n",
      "Iteration No: 29 started. Searching for the next optimal point.\n",
      "[0.030697157994527144, 8, 1, 0.22491316267334754, 0.25231269955818936, 538, 2, 1]\n",
      "[LightGBM] [Warning] bagging_freq is set=1, subsample_freq=0 will be ignored. Current value: bagging_freq=1\n"
     ]
    },
    {
     "name": "stderr",
     "output_type": "stream",
     "text": [
      "C:\\Users\\Luís Eduardo\\AppData\\Local\\Packages\\PythonSoftwareFoundation.Python.3.9_qbz5n2kfra8p0\\LocalCache\\local-packages\\Python39\\site-packages\\lightgbm\\basic.py:859: UserWarning: Converting data to scipy sparse matrix.\n",
      "  _log_warning('Converting data to scipy sparse matrix.')\n"
     ]
    },
    {
     "name": "stdout",
     "output_type": "stream",
     "text": [
      "0.7447329405797667\n",
      "Iteration No: 29 ended. Search finished for the next optimal point.\n",
      "Time taken: 0.7775\n",
      "Function value obtained: -0.6081\n",
      "Current minimum: -0.6250\n",
      "Iteration No: 30 started. Searching for the next optimal point.\n",
      "[0.04023975317126381, 7, 1, 0.20726009788784033, 0.9068128067837882, 773, 1, 2]\n",
      "[LightGBM] [Warning] bagging_freq is set=1, subsample_freq=0 will be ignored. Current value: bagging_freq=1\n"
     ]
    },
    {
     "name": "stderr",
     "output_type": "stream",
     "text": [
      "C:\\Users\\Luís Eduardo\\AppData\\Local\\Packages\\PythonSoftwareFoundation.Python.3.9_qbz5n2kfra8p0\\LocalCache\\local-packages\\Python39\\site-packages\\lightgbm\\basic.py:859: UserWarning: Converting data to scipy sparse matrix.\n",
      "  _log_warning('Converting data to scipy sparse matrix.')\n"
     ]
    },
    {
     "name": "stdout",
     "output_type": "stream",
     "text": [
      "0.6927938824080216\n",
      "Iteration No: 30 ended. Search finished for the next optimal point.\n",
      "Time taken: 1.0396\n",
      "Function value obtained: -0.4946\n",
      "Current minimum: -0.6250\n",
      "Iteration No: 31 started. Searching for the next optimal point.\n",
      "[0.0013763369501059444, 9, 1, 0.15556074244318452, 0.26500532973317575, 706, 1, 1]\n",
      "[LightGBM] [Warning] bagging_freq is set=1, subsample_freq=0 will be ignored. Current value: bagging_freq=1\n"
     ]
    },
    {
     "name": "stderr",
     "output_type": "stream",
     "text": [
      "C:\\Users\\Luís Eduardo\\AppData\\Local\\Packages\\PythonSoftwareFoundation.Python.3.9_qbz5n2kfra8p0\\LocalCache\\local-packages\\Python39\\site-packages\\lightgbm\\basic.py:859: UserWarning: Converting data to scipy sparse matrix.\n",
      "  _log_warning('Converting data to scipy sparse matrix.')\n"
     ]
    },
    {
     "name": "stdout",
     "output_type": "stream",
     "text": [
      "0.7443915570988258\n",
      "Iteration No: 31 ended. Search finished for the next optimal point.\n",
      "Time taken: 1.0176\n",
      "Function value obtained: -0.5769\n",
      "Current minimum: -0.6250\n",
      "Iteration No: 32 started. Searching for the next optimal point.\n",
      "[0.0018667577225655752, 9, 1, 0.31253568370797274, 0.18846314533375413, 334, 1, 1]\n",
      "[LightGBM] [Warning] bagging_freq is set=1, subsample_freq=0 will be ignored. Current value: bagging_freq=1\n"
     ]
    },
    {
     "name": "stderr",
     "output_type": "stream",
     "text": [
      "C:\\Users\\Luís Eduardo\\AppData\\Local\\Packages\\PythonSoftwareFoundation.Python.3.9_qbz5n2kfra8p0\\LocalCache\\local-packages\\Python39\\site-packages\\lightgbm\\basic.py:859: UserWarning: Converting data to scipy sparse matrix.\n",
      "  _log_warning('Converting data to scipy sparse matrix.')\n"
     ]
    },
    {
     "name": "stdout",
     "output_type": "stream",
     "text": [
      "0.759539229838867\n",
      "Iteration No: 32 ended. Search finished for the next optimal point.\n",
      "Time taken: 0.7807\n",
      "Function value obtained: -0.6191\n",
      "Current minimum: -0.6250\n",
      "Iteration No: 33 started. Searching for the next optimal point.\n",
      "[0.00397568506427144, 9, 1, 0.933250245070084, 0.24606019404825202, 607, 1, 1]\n",
      "[LightGBM] [Warning] bagging_freq is set=1, subsample_freq=0 will be ignored. Current value: bagging_freq=1\n"
     ]
    },
    {
     "name": "stderr",
     "output_type": "stream",
     "text": [
      "C:\\Users\\Luís Eduardo\\AppData\\Local\\Packages\\PythonSoftwareFoundation.Python.3.9_qbz5n2kfra8p0\\LocalCache\\local-packages\\Python39\\site-packages\\lightgbm\\basic.py:859: UserWarning: Converting data to scipy sparse matrix.\n",
      "  _log_warning('Converting data to scipy sparse matrix.')\n"
     ]
    },
    {
     "name": "stdout",
     "output_type": "stream",
     "text": [
      "0.7261714330303151\n",
      "Iteration No: 33 ended. Search finished for the next optimal point.\n",
      "Time taken: 0.8783\n",
      "Function value obtained: -0.5353\n",
      "Current minimum: -0.6250\n",
      "Iteration No: 34 started. Searching for the next optimal point.\n",
      "[0.026981405870830887, 9, 3, 0.2854969115593755, 0.1778067678790748, 549, 2, 1]\n",
      "[LightGBM] [Warning] bagging_freq is set=1, subsample_freq=0 will be ignored. Current value: bagging_freq=1\n"
     ]
    },
    {
     "name": "stderr",
     "output_type": "stream",
     "text": [
      "C:\\Users\\Luís Eduardo\\AppData\\Local\\Packages\\PythonSoftwareFoundation.Python.3.9_qbz5n2kfra8p0\\LocalCache\\local-packages\\Python39\\site-packages\\lightgbm\\basic.py:859: UserWarning: Converting data to scipy sparse matrix.\n",
      "  _log_warning('Converting data to scipy sparse matrix.')\n"
     ]
    },
    {
     "name": "stdout",
     "output_type": "stream",
     "text": [
      "0.651271897311849\n",
      "Iteration No: 34 ended. Search finished for the next optimal point.\n",
      "Time taken: 0.4360\n",
      "Function value obtained: -0.4516\n",
      "Current minimum: -0.6250\n",
      "Iteration No: 35 started. Searching for the next optimal point.\n",
      "[0.06490061958007427, 9, 1, 0.7734106642364434, 0.1509232517332273, 349, 1, 1]\n",
      "[LightGBM] [Warning] bagging_freq is set=1, subsample_freq=0 will be ignored. Current value: bagging_freq=1\n"
     ]
    },
    {
     "name": "stderr",
     "output_type": "stream",
     "text": [
      "C:\\Users\\Luís Eduardo\\AppData\\Local\\Packages\\PythonSoftwareFoundation.Python.3.9_qbz5n2kfra8p0\\LocalCache\\local-packages\\Python39\\site-packages\\lightgbm\\basic.py:859: UserWarning: Converting data to scipy sparse matrix.\n",
      "  _log_warning('Converting data to scipy sparse matrix.')\n"
     ]
    },
    {
     "name": "stdout",
     "output_type": "stream",
     "text": [
      "0.782967890445164\n",
      "Iteration No: 35 ended. Search finished for the next optimal point.\n",
      "Time taken: 0.5718\n",
      "Function value obtained: -0.6125\n",
      "Current minimum: -0.6250\n",
      "Iteration No: 36 started. Searching for the next optimal point.\n",
      "[0.011374813810910588, 9, 1, 0.8597550421933585, 0.11037301644825068, 224, 2, 1]\n",
      "[LightGBM] [Warning] bagging_freq is set=1, subsample_freq=0 will be ignored. Current value: bagging_freq=1\n"
     ]
    },
    {
     "name": "stderr",
     "output_type": "stream",
     "text": [
      "C:\\Users\\Luís Eduardo\\AppData\\Local\\Packages\\PythonSoftwareFoundation.Python.3.9_qbz5n2kfra8p0\\LocalCache\\local-packages\\Python39\\site-packages\\lightgbm\\basic.py:859: UserWarning: Converting data to scipy sparse matrix.\n",
      "  _log_warning('Converting data to scipy sparse matrix.')\n"
     ]
    },
    {
     "name": "stdout",
     "output_type": "stream",
     "text": [
      "0.7321310132261715\n",
      "Iteration No: 36 ended. Search finished for the next optimal point.\n",
      "Time taken: 0.5147\n",
      "Function value obtained: -0.5464\n",
      "Current minimum: -0.6250\n",
      "Iteration No: 37 started. Searching for the next optimal point.\n",
      "[0.001162454682124478, 8, 1, 0.28805374087366936, 0.22706766606639645, 538, 5, 1]\n",
      "[LightGBM] [Warning] bagging_freq is set=1, subsample_freq=0 will be ignored. Current value: bagging_freq=1\n"
     ]
    },
    {
     "name": "stderr",
     "output_type": "stream",
     "text": [
      "C:\\Users\\Luís Eduardo\\AppData\\Local\\Packages\\PythonSoftwareFoundation.Python.3.9_qbz5n2kfra8p0\\LocalCache\\local-packages\\Python39\\site-packages\\lightgbm\\basic.py:859: UserWarning: Converting data to scipy sparse matrix.\n",
      "  _log_warning('Converting data to scipy sparse matrix.')\n"
     ]
    },
    {
     "name": "stdout",
     "output_type": "stream",
     "text": [
      "0.7557352424798096\n",
      "Iteration No: 37 ended. Search finished for the next optimal point.\n",
      "Time taken: 0.8358\n",
      "Function value obtained: -0.6085\n",
      "Current minimum: -0.6250\n",
      "Iteration No: 38 started. Searching for the next optimal point.\n",
      "[0.026731709830311874, 10, 1, 0.11960906129605038, 0.06296434665533734, 314, 1, 1]\n",
      "[LightGBM] [Warning] bagging_freq is set=1, subsample_freq=0 will be ignored. Current value: bagging_freq=1\n"
     ]
    },
    {
     "name": "stderr",
     "output_type": "stream",
     "text": [
      "C:\\Users\\Luís Eduardo\\AppData\\Local\\Packages\\PythonSoftwareFoundation.Python.3.9_qbz5n2kfra8p0\\LocalCache\\local-packages\\Python39\\site-packages\\lightgbm\\basic.py:859: UserWarning: Converting data to scipy sparse matrix.\n",
      "  _log_warning('Converting data to scipy sparse matrix.')\n"
     ]
    },
    {
     "name": "stdout",
     "output_type": "stream",
     "text": [
      "0.7270492762670205\n",
      "Iteration No: 38 ended. Search finished for the next optimal point.\n",
      "Time taken: 0.6720\n",
      "Function value obtained: -0.5664\n",
      "Current minimum: -0.6250\n",
      "Iteration No: 39 started. Searching for the next optimal point.\n",
      "[0.03694030310870213, 8, 1, 0.6854917493644457, 0.1709621564218445, 353, 3, 1]\n",
      "[LightGBM] [Warning] bagging_freq is set=1, subsample_freq=0 will be ignored. Current value: bagging_freq=1\n"
     ]
    },
    {
     "name": "stderr",
     "output_type": "stream",
     "text": [
      "C:\\Users\\Luís Eduardo\\AppData\\Local\\Packages\\PythonSoftwareFoundation.Python.3.9_qbz5n2kfra8p0\\LocalCache\\local-packages\\Python39\\site-packages\\lightgbm\\basic.py:859: UserWarning: Converting data to scipy sparse matrix.\n",
      "  _log_warning('Converting data to scipy sparse matrix.')\n"
     ]
    },
    {
     "name": "stdout",
     "output_type": "stream",
     "text": [
      "0.7799442081854004\n",
      "Iteration No: 39 ended. Search finished for the next optimal point.\n",
      "Time taken: 0.4867\n",
      "Function value obtained: -0.5988\n",
      "Current minimum: -0.6250\n",
      "Iteration No: 40 started. Searching for the next optimal point.\n",
      "[0.03150120510533658, 8, 1, 0.4706176993329644, 0.1635953701709405, 476, 2, 1]\n",
      "[LightGBM] [Warning] bagging_freq is set=1, subsample_freq=0 will be ignored. Current value: bagging_freq=1\n"
     ]
    },
    {
     "name": "stderr",
     "output_type": "stream",
     "text": [
      "C:\\Users\\Luís Eduardo\\AppData\\Local\\Packages\\PythonSoftwareFoundation.Python.3.9_qbz5n2kfra8p0\\LocalCache\\local-packages\\Python39\\site-packages\\lightgbm\\basic.py:859: UserWarning: Converting data to scipy sparse matrix.\n",
      "  _log_warning('Converting data to scipy sparse matrix.')\n"
     ]
    },
    {
     "name": "stdout",
     "output_type": "stream",
     "text": [
      "0.7814170340603175\n",
      "Iteration No: 40 ended. Search finished for the next optimal point.\n",
      "Time taken: 0.7148\n",
      "Function value obtained: -0.6197\n",
      "Current minimum: -0.6250\n",
      "Iteration No: 41 started. Searching for the next optimal point.\n",
      "[0.04340553830908002, 8, 2, 0.2494793984085939, 0.2175853075134747, 426, 2, 1]\n",
      "[LightGBM] [Warning] bagging_freq is set=1, subsample_freq=0 will be ignored. Current value: bagging_freq=1\n"
     ]
    },
    {
     "name": "stderr",
     "output_type": "stream",
     "text": [
      "C:\\Users\\Luís Eduardo\\AppData\\Local\\Packages\\PythonSoftwareFoundation.Python.3.9_qbz5n2kfra8p0\\LocalCache\\local-packages\\Python39\\site-packages\\lightgbm\\basic.py:859: UserWarning: Converting data to scipy sparse matrix.\n",
      "  _log_warning('Converting data to scipy sparse matrix.')\n"
     ]
    },
    {
     "name": "stdout",
     "output_type": "stream",
     "text": [
      "0.6683605789863837\n",
      "Iteration No: 41 ended. Search finished for the next optimal point.\n",
      "Time taken: 0.4590\n",
      "Function value obtained: -0.4497\n",
      "Current minimum: -0.6250\n",
      "Iteration No: 42 started. Searching for the next optimal point.\n",
      "[0.03721378650814084, 8, 1, 0.7964705729491824, 0.20236642433156526, 509, 4, 1]\n",
      "[LightGBM] [Warning] bagging_freq is set=1, subsample_freq=0 will be ignored. Current value: bagging_freq=1\n"
     ]
    },
    {
     "name": "stderr",
     "output_type": "stream",
     "text": [
      "C:\\Users\\Luís Eduardo\\AppData\\Local\\Packages\\PythonSoftwareFoundation.Python.3.9_qbz5n2kfra8p0\\LocalCache\\local-packages\\Python39\\site-packages\\lightgbm\\basic.py:859: UserWarning: Converting data to scipy sparse matrix.\n",
      "  _log_warning('Converting data to scipy sparse matrix.')\n"
     ]
    },
    {
     "name": "stdout",
     "output_type": "stream",
     "text": [
      "0.7772424017790956\n",
      "Iteration No: 42 ended. Search finished for the next optimal point.\n",
      "Time taken: 0.6064\n",
      "Function value obtained: -0.5802\n",
      "Current minimum: -0.6250\n",
      "Iteration No: 43 started. Searching for the next optimal point.\n",
      "[0.02273874344391386, 7, 1, 0.30048290824472407, 0.17788929733848896, 789, 4, 1]\n",
      "[LightGBM] [Warning] bagging_freq is set=1, subsample_freq=0 will be ignored. Current value: bagging_freq=1\n"
     ]
    },
    {
     "name": "stderr",
     "output_type": "stream",
     "text": [
      "C:\\Users\\Luís Eduardo\\AppData\\Local\\Packages\\PythonSoftwareFoundation.Python.3.9_qbz5n2kfra8p0\\LocalCache\\local-packages\\Python39\\site-packages\\lightgbm\\basic.py:859: UserWarning: Converting data to scipy sparse matrix.\n",
      "  _log_warning('Converting data to scipy sparse matrix.')\n"
     ]
    },
    {
     "name": "stdout",
     "output_type": "stream",
     "text": [
      "0.7630896180406539\n",
      "Iteration No: 43 ended. Search finished for the next optimal point.\n",
      "Time taken: 0.9766\n",
      "Function value obtained: -0.6203\n",
      "Current minimum: -0.6250\n",
      "Iteration No: 44 started. Searching for the next optimal point.\n",
      "[0.03624233745052156, 1, 1, 0.6373993924228265, 0.1051699718471863, 534, 2, 1]\n",
      "[LightGBM] [Warning] bagging_freq is set=1, subsample_freq=0 will be ignored. Current value: bagging_freq=1\n",
      "0.711784557762085\n"
     ]
    },
    {
     "name": "stderr",
     "output_type": "stream",
     "text": [
      "C:\\Users\\Luís Eduardo\\AppData\\Local\\Packages\\PythonSoftwareFoundation.Python.3.9_qbz5n2kfra8p0\\LocalCache\\local-packages\\Python39\\site-packages\\lightgbm\\basic.py:859: UserWarning: Converting data to scipy sparse matrix.\n",
      "  _log_warning('Converting data to scipy sparse matrix.')\n"
     ]
    },
    {
     "name": "stdout",
     "output_type": "stream",
     "text": [
      "Iteration No: 44 ended. Search finished for the next optimal point.\n",
      "Time taken: 0.3680\n",
      "Function value obtained: -0.4824\n",
      "Current minimum: -0.6250\n",
      "Iteration No: 45 started. Searching for the next optimal point.\n",
      "[0.07615773360210461, 9, 1, 0.29021334224322437, 0.17713551955963808, 126, 3, 1]\n",
      "[LightGBM] [Warning] bagging_freq is set=1, subsample_freq=0 will be ignored. Current value: bagging_freq=1\n"
     ]
    },
    {
     "name": "stderr",
     "output_type": "stream",
     "text": [
      "C:\\Users\\Luís Eduardo\\AppData\\Local\\Packages\\PythonSoftwareFoundation.Python.3.9_qbz5n2kfra8p0\\LocalCache\\local-packages\\Python39\\site-packages\\lightgbm\\basic.py:859: UserWarning: Converting data to scipy sparse matrix.\n",
      "  _log_warning('Converting data to scipy sparse matrix.')\n"
     ]
    },
    {
     "name": "stdout",
     "output_type": "stream",
     "text": [
      "0.7642405680621123\n",
      "Iteration No: 45 ended. Search finished for the next optimal point.\n",
      "Time taken: 0.4408\n",
      "Function value obtained: -0.6315\n",
      "Current minimum: -0.6315\n",
      "Iteration No: 46 started. Searching for the next optimal point.\n",
      "[0.018659851666110786, 8, 2, 0.5641663128406718, 0.17026065575328703, 409, 4, 1]\n",
      "[LightGBM] [Warning] bagging_freq is set=1, subsample_freq=0 will be ignored. Current value: bagging_freq=1\n",
      "0.6811283211735788\n"
     ]
    },
    {
     "name": "stderr",
     "output_type": "stream",
     "text": [
      "C:\\Users\\Luís Eduardo\\AppData\\Local\\Packages\\PythonSoftwareFoundation.Python.3.9_qbz5n2kfra8p0\\LocalCache\\local-packages\\Python39\\site-packages\\lightgbm\\basic.py:859: UserWarning: Converting data to scipy sparse matrix.\n",
      "  _log_warning('Converting data to scipy sparse matrix.')\n"
     ]
    },
    {
     "name": "stdout",
     "output_type": "stream",
     "text": [
      "Iteration No: 46 ended. Search finished for the next optimal point.\n",
      "Time taken: 0.4069\n",
      "Function value obtained: -0.4731\n",
      "Current minimum: -0.6315\n",
      "Iteration No: 47 started. Searching for the next optimal point.\n",
      "[0.0033016096364467317, 6, 1, 0.3018476035328086, 0.1635295101409761, 838, 3, 1]\n",
      "[LightGBM] [Warning] bagging_freq is set=1, subsample_freq=0 will be ignored. Current value: bagging_freq=1\n"
     ]
    },
    {
     "name": "stderr",
     "output_type": "stream",
     "text": [
      "C:\\Users\\Luís Eduardo\\AppData\\Local\\Packages\\PythonSoftwareFoundation.Python.3.9_qbz5n2kfra8p0\\LocalCache\\local-packages\\Python39\\site-packages\\lightgbm\\basic.py:859: UserWarning: Converting data to scipy sparse matrix.\n",
      "  _log_warning('Converting data to scipy sparse matrix.')\n"
     ]
    },
    {
     "name": "stdout",
     "output_type": "stream",
     "text": [
      "0.7562619484218329\n",
      "Iteration No: 47 ended. Search finished for the next optimal point.\n",
      "Time taken: 0.8912\n",
      "Function value obtained: -0.6083\n",
      "Current minimum: -0.6315\n",
      "Iteration No: 48 started. Searching for the next optimal point.\n",
      "[0.03397633790553571, 8, 1, 0.2782708974343007, 0.2583747641824502, 497, 5, 1]\n",
      "[LightGBM] [Warning] bagging_freq is set=1, subsample_freq=0 will be ignored. Current value: bagging_freq=1\n"
     ]
    },
    {
     "name": "stderr",
     "output_type": "stream",
     "text": [
      "C:\\Users\\Luís Eduardo\\AppData\\Local\\Packages\\PythonSoftwareFoundation.Python.3.9_qbz5n2kfra8p0\\LocalCache\\local-packages\\Python39\\site-packages\\lightgbm\\basic.py:859: UserWarning: Converting data to scipy sparse matrix.\n",
      "  _log_warning('Converting data to scipy sparse matrix.')\n"
     ]
    },
    {
     "name": "stdout",
     "output_type": "stream",
     "text": [
      "0.7452596465217901\n",
      "Iteration No: 48 ended. Search finished for the next optimal point.\n",
      "Time taken: 0.7511\n",
      "Function value obtained: -0.5878\n",
      "Current minimum: -0.6315\n",
      "Iteration No: 49 started. Searching for the next optimal point.\n",
      "[0.0010499941434957431, 6, 1, 0.33718308544705317, 0.17381253387200854, 559, 3, 1]\n",
      "[LightGBM] [Warning] bagging_freq is set=1, subsample_freq=0 will be ignored. Current value: bagging_freq=1\n"
     ]
    },
    {
     "name": "stderr",
     "output_type": "stream",
     "text": [
      "C:\\Users\\Luís Eduardo\\AppData\\Local\\Packages\\PythonSoftwareFoundation.Python.3.9_qbz5n2kfra8p0\\LocalCache\\local-packages\\Python39\\site-packages\\lightgbm\\basic.py:859: UserWarning: Converting data to scipy sparse matrix.\n",
      "  _log_warning('Converting data to scipy sparse matrix.')\n"
     ]
    },
    {
     "name": "stdout",
     "output_type": "stream",
     "text": [
      "0.7467714876516717\n",
      "Iteration No: 49 ended. Search finished for the next optimal point.\n",
      "Time taken: 0.7252\n",
      "Function value obtained: -0.5895\n",
      "Current minimum: -0.6315\n",
      "Iteration No: 50 started. Searching for the next optimal point.\n",
      "[0.0014981253289572797, 7, 1, 0.28904027807001825, 0.06063151338681717, 824, 5, 1]\n",
      "[LightGBM] [Warning] bagging_freq is set=1, subsample_freq=0 will be ignored. Current value: bagging_freq=1\n"
     ]
    },
    {
     "name": "stderr",
     "output_type": "stream",
     "text": [
      "C:\\Users\\Luís Eduardo\\AppData\\Local\\Packages\\PythonSoftwareFoundation.Python.3.9_qbz5n2kfra8p0\\LocalCache\\local-packages\\Python39\\site-packages\\lightgbm\\basic.py:859: UserWarning: Converting data to scipy sparse matrix.\n",
      "  _log_warning('Converting data to scipy sparse matrix.')\n"
     ]
    },
    {
     "name": "stdout",
     "output_type": "stream",
     "text": [
      "0.8035972065077446\n",
      "Iteration No: 50 ended. Search finished for the next optimal point.\n",
      "Time taken: 0.8923\n",
      "Function value obtained: -0.7105\n",
      "Current minimum: -0.7105\n"
     ]
    }
   ],
   "source": [
    "def tune_lgbm(params):\n",
    "    print(params)\n",
    "    lr = params[0]\n",
    "    max_depth = params[1]\n",
    "    min_child_samples = params[2]\n",
    "    subsample = params[3]\n",
    "    colsample_bytree = params[4]\n",
    "    n_estimators = params[5]\n",
    "    \n",
    "    min_df = params[6]\n",
    "    ngram_range = (1, params[7])\n",
    "    \n",
    "    \n",
    "    title_train, title_test = X_split(df_animes_with_labels['title'], 0.5)\n",
    "    \n",
    "    word_vec = TfidfVectorizer(min_df=min_df, ngram_range=ngram_range)\n",
    "    word_bow_train = word_vec.fit_transform(title_train)\n",
    "    word_bow_test = word_vec.transform(title_test)\n",
    "\n",
    "    Xtrain = hstack([X_train, word_bow_train])\n",
    "    Xtest = hstack([X_test, word_bow_test])\n",
    "\n",
    "    #Concat the new data to test set\n",
    "    X_test_plus = pd.concat([X_test, df_active_learning[['mean_score', 'num_episodes']]])\n",
    "    y_test_plus = pd.concat([y_test, df_active_learning['y']])\n",
    "    title_test_plus = pd.concat([title_test, df_active_learning['title']])\n",
    "\n",
    "    word_vec = TfidfVectorizer(min_df=min_df, ngram_range=ngram_range)\n",
    "    word_bow_train = word_vec.fit_transform(title_train)\n",
    "    word_bow_test_plus = word_vec.transform(title_test_plus)\n",
    "    \n",
    "    Xtest_plus = hstack([X_test_plus, word_bow_test_plus])\n",
    "    \n",
    "    mdl = LGBMClassifier(learning_rate=lr, num_leaves=2 ** max_depth, max_depth=max_depth, \n",
    "                         min_child_samples=min_child_samples, subsample=subsample,\n",
    "                         colsample_bytree=colsample_bytree, bagging_freq=1,n_estimators=n_estimators, random_state=0, \n",
    "                         class_weight=\"balanced\", n_jobs=6)\n",
    "    \n",
    "    mdl.fit(Xtrain, y_train)\n",
    "    \n",
    "    probability_score_test_plus = mdl.predict_proba(Xtest_plus)[:,1]\n",
    "    \n",
    "    print(roc_auc_score(y_test_plus, probability_score_test_plus))\n",
    "    \n",
    "    return -average_precision_score(y_test_plus, probability_score_test_plus)\n",
    "\n",
    "\n",
    "space = [(1e-3, 1e-1, 'log-uniform'), # lr\n",
    "          (1, 10), # max_depth\n",
    "          (1, 20), # min_child_samples\n",
    "          (0.05, 1.), # subsample\n",
    "          (0.05, 1.), # colsample_bytree\n",
    "          (100,1000), # n_estimators\n",
    "          (1,5), # min_df\n",
    "          (1,5)] # ngram_range\n",
    "\n",
    "res = forest_minimize(tune_lgbm, space, random_state=160745, n_random_starts=20, n_calls=50, verbose=1)"
   ]
  },
  {
   "cell_type": "code",
   "execution_count": 148,
   "id": "5812759c-0dec-4481-84db-26e90e22f460",
   "metadata": {},
   "outputs": [
    {
     "data": {
      "text/plain": [
       "[0.0014981253289572797,\n",
       " 7,\n",
       " 1,\n",
       " 0.28904027807001825,\n",
       " 0.06063151338681717,\n",
       " 824,\n",
       " 5,\n",
       " 1]"
      ]
     },
     "execution_count": 148,
     "metadata": {},
     "output_type": "execute_result"
    }
   ],
   "source": [
    "res.x"
   ]
  },
  {
   "cell_type": "code",
   "execution_count": 147,
   "id": "7989bc45-f9c4-4a9b-a895-0bb7252e9289",
   "metadata": {},
   "outputs": [
    {
     "data": {
      "text/plain": [
       "-0.7105097462366898"
      ]
     },
     "execution_count": 147,
     "metadata": {},
     "output_type": "execute_result"
    }
   ],
   "source": [
    "res.fun"
   ]
  },
  {
   "cell_type": "markdown",
   "id": "3dfbab14-8437-4590-bee7-cb22dffbc993",
   "metadata": {},
   "source": [
    "## Logistic Regression"
   ]
  },
  {
   "cell_type": "code",
   "execution_count": 91,
   "id": "6a719568-f8e1-4323-a291-7c64629f9da0",
   "metadata": {},
   "outputs": [],
   "source": [
    "from sklearn.preprocessing import MaxAbsScaler\n",
    "from scipy.sparse import csr_matrix\n",
    "from sklearn.linear_model import LogisticRegression"
   ]
  },
  {
   "cell_type": "code",
   "execution_count": 167,
   "id": "1f873d2c-ddc7-49bf-a29d-7f5cf33dddcf",
   "metadata": {},
   "outputs": [],
   "source": [
    "Xtrain2 = csr_matrix(Xtrain.copy())\n",
    "Xtest2 = csr_matrix(Xtest_plus.copy())\n",
    "\n",
    "scaler = MaxAbsScaler()\n",
    "\n",
    "Xtrain2 = scaler.fit_transform(Xtrain2)\n",
    "Xtest2 = scaler.transform(Xtest2)"
   ]
  },
  {
   "cell_type": "code",
   "execution_count": 174,
   "id": "9c7043a5-fb71-4ee0-ac38-3d7e3d4282ce",
   "metadata": {},
   "outputs": [
    {
     "data": {
      "text/plain": [
       "LogisticRegression(C=10, n_jobs=6, random_state=0)"
      ]
     },
     "execution_count": 174,
     "metadata": {},
     "output_type": "execute_result"
    }
   ],
   "source": [
    "mdl = LogisticRegression(C=10,n_jobs=6, random_state=0)\n",
    "mdl.fit(Xtrain2, y_train)"
   ]
  },
  {
   "cell_type": "code",
   "execution_count": 175,
   "id": "16cd2d28-1126-4406-aa29-d0ee68ab9622",
   "metadata": {},
   "outputs": [],
   "source": [
    "p = mdl.predict_proba(Xtest2)[:, 1]"
   ]
  },
  {
   "cell_type": "code",
   "execution_count": 170,
   "id": "f12b17d3-c155-4d7a-8be4-3052f4034993",
   "metadata": {},
   "outputs": [
    {
     "name": "stdout",
     "output_type": "stream",
     "text": [
      "0.644108514437606 0.7950723732979595\n"
     ]
    }
   ],
   "source": [
    "# C = 500\n",
    "print(average_precision_score(y_test_plus, p), \n",
    "      roc_auc_score(y_test_plus, p))"
   ]
  },
  {
   "cell_type": "code",
   "execution_count": 173,
   "id": "8390a82c-817a-4bac-8768-0dfb550aee11",
   "metadata": {},
   "outputs": [
    {
     "name": "stdout",
     "output_type": "stream",
     "text": [
      "0.6439463286580266 0.7957941555148064\n"
     ]
    }
   ],
   "source": [
    "#C = 200\n",
    "print(average_precision_score(y_test_plus, p), \n",
    "      roc_auc_score(y_test_plus, p))"
   ]
  },
  {
   "cell_type": "code",
   "execution_count": 176,
   "id": "33ee29a7-2933-4e8b-83cc-bef2ea6eb053",
   "metadata": {},
   "outputs": [
    {
     "name": "stdout",
     "output_type": "stream",
     "text": [
      "0.6352147464960527 0.7898833443876556\n"
     ]
    }
   ],
   "source": [
    "# C = 10\n",
    "print(average_precision_score(y_test_plus, p), \n",
    "      roc_auc_score(y_test_plus, p))"
   ]
  },
  {
   "cell_type": "markdown",
   "id": "8623e47a-bb61-4d34-8d43-ee12e4a80c93",
   "metadata": {},
   "source": [
    "# Final Emsemble"
   ]
  },
  {
   "cell_type": "markdown",
   "id": "670296e4-ccea-4b19-a5ec-937e8d9e6930",
   "metadata": {},
   "source": [
    "## Random Forest"
   ]
  },
  {
   "cell_type": "code",
   "execution_count": 155,
   "id": "a35952cf-9ad0-4975-a2ee-97c33834dd48",
   "metadata": {},
   "outputs": [
    {
     "name": "stdout",
     "output_type": "stream",
     "text": [
      "0.6876159471901129 0.8117611486091061\n"
     ]
    }
   ],
   "source": [
    "mdl_random = RandomForestClassifier(n_estimators = 1000, random_state= 0, class_weight=\"balanced\")\n",
    "mdl_random.fit(Xtrain, y_train)\n",
    "probability_score_random_forest = mdl_random.predict_proba(Xtest_plus)[:,1]\n",
    "\n",
    "print(average_precision_score(y_test_plus, probability_score_random_forest), \n",
    "      roc_auc_score(y_test_plus, probability_score_random_forest))"
   ]
  },
  {
   "cell_type": "markdown",
   "id": "6bf92f31-65e5-4ee6-8246-1295bba11106",
   "metadata": {},
   "source": [
    "## LightGBM"
   ]
  },
  {
   "cell_type": "code",
   "execution_count": 157,
   "id": "f1260dee-d674-4e4d-a48c-cd49717eb597",
   "metadata": {},
   "outputs": [
    {
     "name": "stdout",
     "output_type": "stream",
     "text": [
      "[LightGBM] [Warning] bagging_freq is set=1, subsample_freq=0 will be ignored. Current value: bagging_freq=1\n",
      "0.7105097462366898 0.8035972065077446\n"
     ]
    },
    {
     "name": "stderr",
     "output_type": "stream",
     "text": [
      "C:\\Users\\Luís Eduardo\\AppData\\Local\\Packages\\PythonSoftwareFoundation.Python.3.9_qbz5n2kfra8p0\\LocalCache\\local-packages\\Python39\\site-packages\\lightgbm\\basic.py:859: UserWarning: Converting data to scipy sparse matrix.\n",
      "  _log_warning('Converting data to scipy sparse matrix.')\n"
     ]
    }
   ],
   "source": [
    "params = [0.0014981253289572797, 7, 1, 0.28904027807001825, 0.06063151338681717, 824, 1, 3]\n",
    "\n",
    "lr = params[0]\n",
    "max_depth = params[1]\n",
    "min_child_samples = params[2]\n",
    "subsample = params[3]\n",
    "colsample_bytree = params[4]\n",
    "n_estimators = params[5]\n",
    "    \n",
    "min_df = params[6]\n",
    "ngram_range = (1, params[7])\n",
    "    \n",
    "    \n",
    "title_train, title_test = X_split(df_animes_with_labels['title'], 0.5)\n",
    "    \n",
    "word_vec = TfidfVectorizer(min_df=min_df, ngram_range= ngram_range)\n",
    "word_bow_train = word_vec.fit_transform(title_train)\n",
    "word_bow_test = word_vec.transform(title_test)\n",
    "\n",
    "Xtrain = hstack([X_train, word_bow_train])\n",
    "Xtest = hstack([X_test, word_bow_test])\n",
    "\n",
    "#Concat the new data to test set\n",
    "X_test_plus = pd.concat([X_test, df_active_learning[['mean_score', 'num_episodes']]])\n",
    "y_test_plus = pd.concat([y_test, df_active_learning['y']])\n",
    "title_test_plus = pd.concat([title_test, df_active_learning['title']])\n",
    "\n",
    "word_vec = TfidfVectorizer(min_df=min_df, ngram_range=ngram_range)\n",
    "word_bow_train = word_vec.fit_transform(title_train)\n",
    "word_bow_test_plus = word_vec.transform(title_test_plus)\n",
    "    \n",
    "Xtest_plus = hstack([X_test_plus, word_bow_test_plus])\n",
    "    \n",
    "mdl_lgbm = LGBMClassifier(learning_rate=lr, num_leaves=2 ** max_depth, max_depth=max_depth, \n",
    "                         min_child_samples=min_child_samples, subsample=subsample,\n",
    "                         colsample_bytree=colsample_bytree, bagging_freq=1,n_estimators=n_estimators, random_state=0, \n",
    "                         class_weight=\"balanced\", n_jobs=6)\n",
    "    \n",
    "mdl_lgbm.fit(Xtrain, y_train)\n",
    "    \n",
    "probability_score_light = mdl_lgbm.predict_proba(Xtest_plus)[:,1]\n",
    "    \n",
    "print(average_precision_score(y_test_plus, probability_score_light), roc_auc_score(y_test_plus, probability_score_light))"
   ]
  },
  {
   "cell_type": "markdown",
   "id": "f611f2c0-4686-4fb0-a429-f99ba64d2fea",
   "metadata": {},
   "source": [
    "## Logistic Regression"
   ]
  },
  {
   "cell_type": "code",
   "execution_count": 177,
   "id": "03f085dd-4008-4e8b-a3cc-e0eee3504759",
   "metadata": {},
   "outputs": [],
   "source": [
    "from sklearn.pipeline import make_pipeline"
   ]
  },
  {
   "cell_type": "code",
   "execution_count": 178,
   "id": "2c844f20-4ed8-4461-b3d7-9650cc4835c8",
   "metadata": {},
   "outputs": [
    {
     "name": "stdout",
     "output_type": "stream",
     "text": [
      "0.644108514437606 0.7950723732979595\n"
     ]
    }
   ],
   "source": [
    "Xtrain2 = csr_matrix(Xtrain.copy())\n",
    "Xtest2 = csr_matrix(Xtest_plus.copy())\n",
    "\n",
    "lr_pipeline = make_pipeline(MaxAbsScaler(), LogisticRegression(C = 500, n_jobs= 6, random_state= 0))\n",
    "\n",
    "lr_pipeline.fit(Xtrain2, y_train)\n",
    "\n",
    "probability_score_logistic = lr_pipeline.predict_proba(Xtest2)[:, 1] \n",
    "\n",
    "print(average_precision_score(y_test_plus, probability_score_logistic), \n",
    "      roc_auc_score(y_test_plus, probability_score_logistic))"
   ]
  },
  {
   "cell_type": "markdown",
   "id": "fa7e6a11-7cf2-4922-89bb-cedfcd8e56c1",
   "metadata": {},
   "source": [
    "## Ensemble"
   ]
  },
  {
   "cell_type": "markdown",
   "id": "5ebab854-025b-4945-9742-f9019c894c7d",
   "metadata": {},
   "source": [
    "0.6876159471901129 0.8117611486091061 RF\n",
    "\n",
    "0.7105097462366898 0.8035972065077446 LGBM\n",
    "\n",
    "0.644108514437606 0.7950723732979595 LR"
   ]
  },
  {
   "cell_type": "code",
   "execution_count": 102,
   "id": "33138dfa-7a25-4d5a-9b7e-6ce92a37dbe5",
   "metadata": {},
   "outputs": [
    {
     "name": "stdout",
     "output_type": "stream",
     "text": [
      "0.7132421902362809 0.8227927119503726\n"
     ]
    }
   ],
   "source": [
    "probability_score = (probability_score_light + probability_score_random_forest + probability_score_logistic) / 3\n",
    "print(average_precision_score(y_test_plus, probability_score), roc_auc_score(y_test_plus, probability_score))"
   ]
  },
  {
   "cell_type": "code",
   "execution_count": 103,
   "id": "6e210157-3a69-4971-8b47-d236d52dd3f7",
   "metadata": {},
   "outputs": [
    {
     "data": {
      "text/html": [
       "<div>\n",
       "<style scoped>\n",
       "    .dataframe tbody tr th:only-of-type {\n",
       "        vertical-align: middle;\n",
       "    }\n",
       "\n",
       "    .dataframe tbody tr th {\n",
       "        vertical-align: top;\n",
       "    }\n",
       "\n",
       "    .dataframe thead th {\n",
       "        text-align: right;\n",
       "    }\n",
       "</style>\n",
       "<table border=\"1\" class=\"dataframe\">\n",
       "  <thead>\n",
       "    <tr style=\"text-align: right;\">\n",
       "      <th></th>\n",
       "      <th>LR</th>\n",
       "      <th>RF</th>\n",
       "      <th>LGBM</th>\n",
       "    </tr>\n",
       "  </thead>\n",
       "  <tbody>\n",
       "    <tr>\n",
       "      <th>LR</th>\n",
       "      <td>1.000000</td>\n",
       "      <td>0.717407</td>\n",
       "      <td>0.556873</td>\n",
       "    </tr>\n",
       "    <tr>\n",
       "      <th>RF</th>\n",
       "      <td>0.717407</td>\n",
       "      <td>1.000000</td>\n",
       "      <td>0.805850</td>\n",
       "    </tr>\n",
       "    <tr>\n",
       "      <th>LGBM</th>\n",
       "      <td>0.556873</td>\n",
       "      <td>0.805850</td>\n",
       "      <td>1.000000</td>\n",
       "    </tr>\n",
       "  </tbody>\n",
       "</table>\n",
       "</div>"
      ],
      "text/plain": [
       "            LR        RF      LGBM\n",
       "LR    1.000000  0.717407  0.556873\n",
       "RF    0.717407  1.000000  0.805850\n",
       "LGBM  0.556873  0.805850  1.000000"
      ]
     },
     "execution_count": 103,
     "metadata": {},
     "output_type": "execute_result"
    }
   ],
   "source": [
    "pd.DataFrame({\"LR\" : probability_score_logistic, \"RF\": probability_score_random_forest, \"LGBM\": probability_score_light}).corr()"
   ]
  },
  {
   "cell_type": "code",
   "execution_count": 104,
   "id": "af618236-d75e-4852-a688-35ed5633ded4",
   "metadata": {},
   "outputs": [
    {
     "name": "stdout",
     "output_type": "stream",
     "text": [
      "0.7088473966317359 0.8183059576294331\n"
     ]
    }
   ],
   "source": [
    "probability_score = 0.5 * probability_score_logistic + 0.5 * probability_score_light\n",
    "print(average_precision_score(y_test_plus, probability_score), roc_auc_score(y_test_plus, probability_score))"
   ]
  },
  {
   "cell_type": "code",
   "execution_count": 105,
   "id": "e020dfe5-1f5c-45fb-bfcb-6c5011f946fb",
   "metadata": {},
   "outputs": [
    {
     "name": "stdout",
     "output_type": "stream",
     "text": [
      "0.7174079743934428 0.8215442237915025\n"
     ]
    }
   ],
   "source": [
    "probability_score = 0.4 * probability_score_logistic + 0.6 * probability_score_light\n",
    "print(average_precision_score(y_test_plus, probability_score), roc_auc_score(y_test_plus, probability_score))"
   ]
  },
  {
   "cell_type": "code",
   "execution_count": 106,
   "id": "80eb7f01-ca95-422e-a37f-94a0714c1f0e",
   "metadata": {},
   "outputs": [
    {
     "name": "stdout",
     "output_type": "stream",
     "text": [
      "0.7231399030576191 0.8236705551870782\n"
     ]
    }
   ],
   "source": [
    "probability_score = 0.3 * probability_score_logistic + 0.7 * probability_score_light\n",
    "print(average_precision_score(y_test_plus, probability_score), roc_auc_score(y_test_plus, probability_score))"
   ]
  },
  {
   "cell_type": "code",
   "execution_count": 107,
   "id": "9539f6c2-8d6a-47d6-99b2-2edeed2bfafd",
   "metadata": {},
   "outputs": [
    {
     "name": "stdout",
     "output_type": "stream",
     "text": [
      "0.7306053772507798 0.8252701806406305\n"
     ]
    }
   ],
   "source": [
    "probability_score = 0.2 * probability_score_logistic + 0.8 * probability_score_light\n",
    "print(average_precision_score(y_test_plus, probability_score), roc_auc_score(y_test_plus, probability_score))"
   ]
  },
  {
   "cell_type": "code",
   "execution_count": 108,
   "id": "ed6fdba4-fc9b-40bc-a5c2-0b3e548bd2ef",
   "metadata": {},
   "outputs": [
    {
     "name": "stdout",
     "output_type": "stream",
     "text": [
      "0.7405124135918438 0.8269283289766298\n"
     ]
    }
   ],
   "source": [
    "probability_score = 0.1 * probability_score_logistic + 0.9 * probability_score_light\n",
    "print(average_precision_score(y_test_plus, probability_score), roc_auc_score(y_test_plus, probability_score))"
   ]
  },
  {
   "cell_type": "code",
   "execution_count": 109,
   "id": "40fbb5e6-3346-4c04-a9b6-49dbc6e59963",
   "metadata": {},
   "outputs": [
    {
     "name": "stdout",
     "output_type": "stream",
     "text": [
      "0.7248197765306668 0.8210760407319262\n"
     ]
    }
   ],
   "source": [
    "probability_score = 0.2 * probability_score_random_forest + 0.8 * probability_score_light\n",
    "print(average_precision_score(y_test_plus, probability_score), roc_auc_score(y_test_plus, probability_score))"
   ]
  },
  {
   "cell_type": "markdown",
   "id": "850cfa45-e8bd-4f9d-9b7e-04b53eb2ba89",
   "metadata": {},
   "source": [
    "## Save Models"
   ]
  },
  {
   "cell_type": "code",
   "execution_count": 179,
   "id": "6f252b36-3f5b-478c-b6c1-24d1a57949a0",
   "metadata": {},
   "outputs": [
    {
     "data": {
      "text/plain": [
       "['word_vectorizer_animes.pkl.z']"
      ]
     },
     "execution_count": 179,
     "metadata": {},
     "output_type": "execute_result"
    }
   ],
   "source": [
    "import joblib as jb\n",
    "\n",
    "jb.dump(mdl_lgbm, \"lgbm_animes.pkl.z\")\n",
    "jb.dump(lr_pipeline, \"Logistic_reg_animes.pkl.z\")\n",
    "jb.dump(word_vec, \"word_vectorizer_animes.pkl.z\")"
   ]
  },
  {
   "cell_type": "code",
   "execution_count": null,
   "id": "c0c31a09-6756-4c96-a51b-ba11959f8cf4",
   "metadata": {},
   "outputs": [],
   "source": []
  }
 ],
 "metadata": {
  "kernelspec": {
   "display_name": "Python 3 (ipykernel)",
   "language": "python",
   "name": "python3"
  },
  "language_info": {
   "codemirror_mode": {
    "name": "ipython",
    "version": 3
   },
   "file_extension": ".py",
   "mimetype": "text/x-python",
   "name": "python",
   "nbconvert_exporter": "python",
   "pygments_lexer": "ipython3",
   "version": "3.9.12"
  }
 },
 "nbformat": 4,
 "nbformat_minor": 5
}

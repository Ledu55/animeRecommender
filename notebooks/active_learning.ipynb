{
 "cells": [
  {
   "cell_type": "markdown",
   "id": "a45208be",
   "metadata": {},
   "source": [
    "# Active Learning"
   ]
  },
  {
   "cell_type": "markdown",
   "id": "170f0a6a",
   "metadata": {},
   "source": [
    "## 1.0 Imports"
   ]
  },
  {
   "cell_type": "code",
   "execution_count": 2,
   "id": "f2ce48ac",
   "metadata": {},
   "outputs": [],
   "source": [
    "#import libraries\n",
    "\n",
    "#Data extraction and manipulation\n",
    "import pandas as pd \n",
    "import pymysql as pml\n",
    "from sklearn.model_selection import train_test_split\n",
    "from sklearn.feature_extraction.text import TfidfVectorizer\n",
    "from scipy.sparse import hstack\n",
    "\n",
    "#Machine Learning Models\n",
    "from sklearn.tree import DecisionTreeClassifier\n",
    "from sklearn.ensemble import RandomForestClassifier\n",
    "\n",
    "#Evaluation Metrics\n",
    "from sklearn.metrics import roc_auc_score, average_precision_score\n",
    "\n",
    "#Data Visualization\n",
    "from sklearn.tree import plot_tree\n",
    "import matplotlib.pylab as plt"
   ]
  },
  {
   "cell_type": "markdown",
   "id": "ee337aef",
   "metadata": {},
   "source": [
    "## 2.0 Data Extraction"
   ]
  },
  {
   "cell_type": "code",
   "execution_count": 3,
   "id": "7e9cf6ff",
   "metadata": {},
   "outputs": [],
   "source": [
    "def connect_to_db(host_name, username, password, dbname, port):\n",
    "    try:  \n",
    "        conn = pml.connect(host= host_name, user = username, password = password, port = port,database = dbname )\n",
    "    \n",
    "    except pml.OperationalError as e:\n",
    "        raise e\n",
    "    else:\n",
    "        print('Connected!')\n",
    "    return conn "
   ]
  },
  {
   "cell_type": "code",
   "execution_count": 4,
   "id": "93a72192",
   "metadata": {},
   "outputs": [],
   "source": [
    "def extract_data(curr):\n",
    "    curr.execute(\"SELECT * FROM animes WHERE media_type = 'tv' or media_type = 'ova' \")\n",
    "    df = pd.DataFrame(curr.fetchall())\n",
    "    return df"
   ]
  },
  {
   "cell_type": "code",
   "execution_count": 33,
   "id": "7b1af506",
   "metadata": {},
   "outputs": [
    {
     "name": "stdout",
     "output_type": "stream",
     "text": [
      "Connected!\n"
     ]
    }
   ],
   "source": [
    "#database credentials\n",
    "host_name = 'personalproject.crpcbnfr4nbk.us-east-1.rds.amazonaws.com'\n",
    "username = 'admin'\n",
    "password = 'ad5c7455'\n",
    "dbname = 'personal_projects'\n",
    "port = 3306\n",
    "conn = None\n",
    "\n",
    "#establish a connection to db\n",
    "conn = connect_to_db(host_name, username, password, dbname, port)\n",
    "curr = conn.cursor()\n",
    "\n",
    "df = extract_data(curr)"
   ]
  },
  {
   "cell_type": "code",
   "execution_count": 34,
   "id": "e27502d8",
   "metadata": {},
   "outputs": [],
   "source": [
    "#Rename the columns\n",
    "df.columns = ['anime_id','title' ,'genre' ,'mean_score', 'media_type', 'num_episodes',\n",
    "                'picture', 'rating', 'status', 'start_date','end_date']"
   ]
  },
  {
   "cell_type": "markdown",
   "id": "05f91c81",
   "metadata": {},
   "source": [
    "## 3.0 Labeling\n",
    "\n",
    "In this poroject the labels will be made by hand. I'm going to use google sheets to create a new column called 'y' and classifier wether i like (1) or not (0) each anime based on name, number of episodes and the mean_score. For starters i'm going to make labels for about 600 animes."
   ]
  },
  {
   "cell_type": "code",
   "execution_count": 35,
   "id": "8e309a56",
   "metadata": {},
   "outputs": [],
   "source": [
    "#Export the data for labeling \n",
    "df.to_csv('animes_to_label.csv')"
   ]
  },
  {
   "cell_type": "code",
   "execution_count": 36,
   "id": "cac54567",
   "metadata": {},
   "outputs": [
    {
     "data": {
      "text/plain": [
       "(605, 11)"
      ]
     },
     "execution_count": 36,
     "metadata": {},
     "output_type": "execute_result"
    }
   ],
   "source": [
    "#Read the data with labels and load into a dataframe \n",
    "df_animes_with_labels = pd.read_csv('animes_with_label.csv', index_col=0)\n",
    "#keep only those with label\n",
    "df_animes_with_labels = df_animes_with_labels[df_animes_with_labels['y'].notnull()] \n",
    "df_animes_with_labels.shape"
   ]
  },
  {
   "cell_type": "code",
   "execution_count": 37,
   "id": "b0335262",
   "metadata": {},
   "outputs": [
    {
     "data": {
      "text/html": [
       "<div>\n",
       "<style scoped>\n",
       "    .dataframe tbody tr th:only-of-type {\n",
       "        vertical-align: middle;\n",
       "    }\n",
       "\n",
       "    .dataframe tbody tr th {\n",
       "        vertical-align: top;\n",
       "    }\n",
       "\n",
       "    .dataframe thead th {\n",
       "        text-align: right;\n",
       "    }\n",
       "</style>\n",
       "<table border=\"1\" class=\"dataframe\">\n",
       "  <thead>\n",
       "    <tr style=\"text-align: right;\">\n",
       "      <th></th>\n",
       "      <th>title</th>\n",
       "      <th>genre</th>\n",
       "      <th>mean_score</th>\n",
       "      <th>media_type</th>\n",
       "      <th>num_episodes</th>\n",
       "      <th>picture</th>\n",
       "      <th>rating</th>\n",
       "      <th>status</th>\n",
       "      <th>start_date</th>\n",
       "      <th>end_date</th>\n",
       "      <th>y</th>\n",
       "    </tr>\n",
       "    <tr>\n",
       "      <th>anime_id</th>\n",
       "      <th></th>\n",
       "      <th></th>\n",
       "      <th></th>\n",
       "      <th></th>\n",
       "      <th></th>\n",
       "      <th></th>\n",
       "      <th></th>\n",
       "      <th></th>\n",
       "      <th></th>\n",
       "      <th></th>\n",
       "      <th></th>\n",
       "    </tr>\n",
       "  </thead>\n",
       "  <tbody>\n",
       "    <tr>\n",
       "      <th>1</th>\n",
       "      <td>Cowboy Bebop</td>\n",
       "      <td>Action</td>\n",
       "      <td>8.76</td>\n",
       "      <td>tv</td>\n",
       "      <td>26</td>\n",
       "      <td>https://api-cdn.myanimelist.net/images/anime/4...</td>\n",
       "      <td>r</td>\n",
       "      <td>finished_airing</td>\n",
       "      <td>1998-04-03</td>\n",
       "      <td>1999-04-24</td>\n",
       "      <td>1.0</td>\n",
       "    </tr>\n",
       "    <tr>\n",
       "      <th>6</th>\n",
       "      <td>Trigun</td>\n",
       "      <td>Action</td>\n",
       "      <td>8.22</td>\n",
       "      <td>tv</td>\n",
       "      <td>26</td>\n",
       "      <td>https://api-cdn.myanimelist.net/images/anime/7...</td>\n",
       "      <td>pg_13</td>\n",
       "      <td>finished_airing</td>\n",
       "      <td>1998-04-01</td>\n",
       "      <td>1998-09-30</td>\n",
       "      <td>1.0</td>\n",
       "    </tr>\n",
       "    <tr>\n",
       "      <th>7</th>\n",
       "      <td>Witch Hunter Robin</td>\n",
       "      <td>Action</td>\n",
       "      <td>7.26</td>\n",
       "      <td>tv</td>\n",
       "      <td>26</td>\n",
       "      <td>https://api-cdn.myanimelist.net/images/anime/1...</td>\n",
       "      <td>pg_13</td>\n",
       "      <td>finished_airing</td>\n",
       "      <td>2002-07-02</td>\n",
       "      <td>2002-12-24</td>\n",
       "      <td>0.0</td>\n",
       "    </tr>\n",
       "  </tbody>\n",
       "</table>\n",
       "</div>"
      ],
      "text/plain": [
       "                       title   genre  mean_score media_type  num_episodes  \\\n",
       "anime_id                                                                    \n",
       "1               Cowboy Bebop  Action        8.76         tv            26   \n",
       "6                     Trigun  Action        8.22         tv            26   \n",
       "7         Witch Hunter Robin  Action        7.26         tv            26   \n",
       "\n",
       "                                                    picture rating  \\\n",
       "anime_id                                                             \n",
       "1         https://api-cdn.myanimelist.net/images/anime/4...      r   \n",
       "6         https://api-cdn.myanimelist.net/images/anime/7...  pg_13   \n",
       "7         https://api-cdn.myanimelist.net/images/anime/1...  pg_13   \n",
       "\n",
       "                   status  start_date    end_date    y  \n",
       "anime_id                                                \n",
       "1         finished_airing  1998-04-03  1999-04-24  1.0  \n",
       "6         finished_airing  1998-04-01  1998-09-30  1.0  \n",
       "7         finished_airing  2002-07-02  2002-12-24  0.0  "
      ]
     },
     "execution_count": 37,
     "metadata": {},
     "output_type": "execute_result"
    }
   ],
   "source": [
    "df_animes_with_labels.head(3)"
   ]
  },
  {
   "cell_type": "markdown",
   "id": "9333985e",
   "metadata": {},
   "source": [
    "## 4.0 Understanding The Features"
   ]
  },
  {
   "cell_type": "code",
   "execution_count": 38,
   "id": "162aab8d",
   "metadata": {},
   "outputs": [],
   "source": [
    "def data_split(X, y, test_size):\n",
    "    X_train, X_test, y_train, y_test = train_test_split(X, y, test_size=test_size,\n",
    "                                                        random_state=42)\n",
    "    return X_train, X_test, y_train, y_test\n",
    "\n",
    "def X_split(X, test_size):\n",
    "    X_train, X_test = train_test_split(X, test_size=test_size,\n",
    "                                                        random_state=42)\n",
    "    return X_train, X_test"
   ]
  },
  {
   "cell_type": "code",
   "execution_count": 39,
   "id": "9d6472a0",
   "metadata": {},
   "outputs": [
    {
     "data": {
      "text/plain": [
       "((302, 2), (303, 2), (302,), (303,))"
      ]
     },
     "execution_count": 39,
     "metadata": {},
     "output_type": "execute_result"
    }
   ],
   "source": [
    "#Split the data with labels\n",
    "X = df_animes_with_labels[['mean_score', 'num_episodes']]\n",
    "y = df_animes_with_labels['y'].copy()\n",
    "\n",
    "X_train, X_test, y_train, y_test = data_split(X, y, 0.5)\n",
    "X_train.shape, X_test.shape, y_train.shape, y_test.shape"
   ]
  },
  {
   "cell_type": "code",
   "execution_count": 40,
   "id": "1e82bd41",
   "metadata": {},
   "outputs": [],
   "source": [
    "#Training a Decision Tree\n",
    "mdl = DecisionTreeClassifier(random_state= 0, max_depth=2, class_weight=\"balanced\")\n",
    "mdl.fit(X_train, y_train)\n",
    "\n",
    "probability_score = mdl.predict_proba(X_test)[:,1]"
   ]
  },
  {
   "cell_type": "code",
   "execution_count": 41,
   "id": "1c734f8f",
   "metadata": {},
   "outputs": [
    {
     "data": {
      "text/plain": [
       "(0.31320971080158866, 0.6524381772714642)"
      ]
     },
     "execution_count": 41,
     "metadata": {},
     "output_type": "execute_result"
    }
   ],
   "source": [
    "average_precision_score(y_test, probability_score), roc_auc_score(y_test, probability_score)"
   ]
  },
  {
   "cell_type": "code",
   "execution_count": 42,
   "id": "bd3716c4",
   "metadata": {},
   "outputs": [
    {
     "data": {
      "text/plain": [
       "[Text(0.5, 0.8333333333333334, 'mean_score <= 7.79\\ngini = 0.5\\nsamples = 302\\nvalue = [151.0, 151.0]'),\n",
       " Text(0.25, 0.5, 'num_episodes <= 121.5\\ngini = 0.441\\nsamples = 195\\nvalue = [110.647, 53.929]'),\n",
       " Text(0.125, 0.16666666666666666, 'gini = 0.428\\nsamples = 192\\nvalue = [109.996, 49.614]'),\n",
       " Text(0.375, 0.16666666666666666, 'gini = 0.228\\nsamples = 3\\nvalue = [0.651, 4.314]'),\n",
       " Text(0.75, 0.5, 'mean_score <= 8.17\\ngini = 0.415\\nsamples = 107\\nvalue = [40.353, 97.071]'),\n",
       " Text(0.625, 0.16666666666666666, 'gini = 0.472\\nsamples = 67\\nvalue = [29.289, 47.457]'),\n",
       " Text(0.875, 0.16666666666666666, 'gini = 0.298\\nsamples = 40\\nvalue = [11.065, 49.614]')]"
      ]
     },
     "execution_count": 42,
     "metadata": {},
     "output_type": "execute_result"
    },
    {
     "data": {
      "image/png": "[encoded data removed]",
      "text/plain": [
       "<Figure size 720x720 with 1 Axes>"
      ]
     },
     "metadata": {
      "needs_background": "light"
     },
     "output_type": "display_data"
    }
   ],
   "source": [
    "#Resize the figure\n",
    "plt.figure(figsize = (10,10))\n",
    "#Pot the tree\n",
    "plot_tree(mdl, feature_names= X_train.columns)"
   ]
  },
  {
   "cell_type": "markdown",
   "id": "6164800d",
   "metadata": {},
   "source": [
    "- Animes those has a mean_score lower or equal to 7.79 and  121.5 episodes or less, are more interesting for me.\n",
    "\n",
    "The baseline for Average Precision and AUC Score:\n",
    "(0.31320971080158866, 0.6524381772714642)\n",
    "\n",
    "The active learning goal is surpass this values."
   ]
  },
  {
   "cell_type": "markdown",
   "id": "7ed82360",
   "metadata": {},
   "source": [
    "### 4.1 Featuring the titles"
   ]
  },
  {
   "cell_type": "code",
   "execution_count": 43,
   "id": "b39aa032",
   "metadata": {},
   "outputs": [],
   "source": [
    "def word_vectorizer(word_train, word_test, min_df):\n",
    "    word_vec = TfidfVectorizer(min_df= min_df)\n",
    "    word_bow_train = word_vec.fit_transform(word_train)\n",
    "    word_bow_test = word_vec.transform(word_test)\n",
    "    \n",
    "    return word_bow_train, word_bow_test"
   ]
  },
  {
   "cell_type": "code",
   "execution_count": 44,
   "id": "8e2f0776",
   "metadata": {},
   "outputs": [],
   "source": [
    "#Split the titles in training and test\n",
    "title_train, title_test = X_split(df_animes_with_labels['title'], 0.5)"
   ]
  },
  {
   "cell_type": "code",
   "execution_count": 45,
   "id": "c669e7ed",
   "metadata": {},
   "outputs": [],
   "source": [
    "#Vectorizer the titles with min_df =1 and min_df = 2 to test the results\n",
    "title_bow_train, title_bow_test = word_vectorizer(title_train, title_test, 1)\n",
    "title_bow_train_md2, title_bow_test_md2 = word_vectorizer(title_train, title_test, 2)"
   ]
  },
  {
   "cell_type": "code",
   "execution_count": 46,
   "id": "796a01ba",
   "metadata": {},
   "outputs": [
    {
     "data": {
      "text/plain": [
       "((302, 727), (302, 170))"
      ]
     },
     "execution_count": 46,
     "metadata": {},
     "output_type": "execute_result"
    }
   ],
   "source": [
    "title_bow_train.shape, title_bow_train_md2.shape"
   ]
  },
  {
   "cell_type": "code",
   "execution_count": 94,
   "id": "ef2f1924",
   "metadata": {},
   "outputs": [],
   "source": [
    "#Merge the train and test data from title, mean_score and num_episodes\n",
    "Xtrain = hstack([X_train, title_bow_train])\n",
    "Xtest = hstack([X_test, title_bow_test])\n",
    "Xtrain_md2 = hstack([X_train, title_bow_train_md2])\n",
    "Xtest_md2 = hstack([X_test, title_bow_test_md2])"
   ]
  },
  {
   "cell_type": "code",
   "execution_count": 48,
   "id": "3c07bd63",
   "metadata": {},
   "outputs": [
    {
     "data": {
      "text/plain": [
       "((302, 729), (302, 172))"
      ]
     },
     "execution_count": 48,
     "metadata": {},
     "output_type": "execute_result"
    }
   ],
   "source": [
    "Xtrain.shape, Xtrain_md2.shape"
   ]
  },
  {
   "cell_type": "code",
   "execution_count": 49,
   "id": "635dc759",
   "metadata": {},
   "outputs": [],
   "source": [
    "mdl = RandomForestClassifier(n_estimators = 1000, random_state= 0, class_weight=\"balanced\")\n",
    "\n",
    "mdl.fit(Xtrain_md2, y_train)\n",
    "probability_score_md2 = mdl.predict_proba(Xtest_md2)[:,1]\n",
    "\n",
    "mdl.fit(Xtrain, y_train)\n",
    "probability_score_md1 = mdl.predict_proba(Xtest)[:,1]"
   ]
  },
  {
   "cell_type": "code",
   "execution_count": 50,
   "id": "544115ed",
   "metadata": {},
   "outputs": [
    {
     "data": {
      "text/plain": [
       "(0.5458583250045408, 0.782126979716588)"
      ]
     },
     "execution_count": 50,
     "metadata": {},
     "output_type": "execute_result"
    }
   ],
   "source": [
    "average_precision_score(y_test, probability_score_md1), roc_auc_score(y_test, probability_score_md1)"
   ]
  },
  {
   "cell_type": "code",
   "execution_count": 51,
   "id": "88e426b9",
   "metadata": {},
   "outputs": [
    {
     "data": {
      "text/plain": [
       "(0.35773861137119, 0.6698041122534039)"
      ]
     },
     "execution_count": 51,
     "metadata": {},
     "output_type": "execute_result"
    }
   ],
   "source": [
    "average_precision_score(y_test, probability_score_md2),roc_auc_score(y_test, probability_score_md2)"
   ]
  },
  {
   "cell_type": "markdown",
   "id": "2e18ed5c",
   "metadata": {},
   "source": [
    "With the titles and a more complex model the baseline was suprassed. The min_df = 1 was much better than 2. \n",
    "\n",
    "\n",
    "Baseline: (0.31320971080158866, 0.6524381772714642)\n",
    "\n",
    "---\n",
    "Randomforest, tfvectorizer, min_df = 2: (0.35773861137119, 0.6698041122534039)\n",
    "\n",
    "---\n",
    "Randomforest, tfvectorizer, min_df = 1: (0.5458583250045408, 0.782126979716588)"
   ]
  },
  {
   "cell_type": "markdown",
   "id": "2ed886e4",
   "metadata": {},
   "source": [
    "## 5.0 Labeling New Data\n",
    "\n",
    "Now i'm going to label the data which the model had trouble to predict if is or not interesting."
   ]
  },
  {
   "cell_type": "code",
   "execution_count": 52,
   "id": "4c6260a2",
   "metadata": {},
   "outputs": [
    {
     "data": {
      "text/plain": [
       "(1202, 11)"
      ]
     },
     "execution_count": 52,
     "metadata": {},
     "output_type": "execute_result"
    }
   ],
   "source": [
    "#Read the data with labels and load into a dataframe \n",
    "df_unlabeled = pd.read_csv('animes_with_label.csv', index_col=0)\n",
    "df_unlabeled = df_unlabeled[df_unlabeled['y'].isnull()].dropna(how= 'all')\n",
    "df_unlabeled.shape"
   ]
  },
  {
   "cell_type": "code",
   "execution_count": 53,
   "id": "0b63b651",
   "metadata": {},
   "outputs": [
    {
     "data": {
      "text/html": [
       "<div>\n",
       "<style scoped>\n",
       "    .dataframe tbody tr th:only-of-type {\n",
       "        vertical-align: middle;\n",
       "    }\n",
       "\n",
       "    .dataframe tbody tr th {\n",
       "        vertical-align: top;\n",
       "    }\n",
       "\n",
       "    .dataframe thead th {\n",
       "        text-align: right;\n",
       "    }\n",
       "</style>\n",
       "<table border=\"1\" class=\"dataframe\">\n",
       "  <thead>\n",
       "    <tr style=\"text-align: right;\">\n",
       "      <th></th>\n",
       "      <th>title</th>\n",
       "      <th>genre</th>\n",
       "      <th>mean_score</th>\n",
       "      <th>media_type</th>\n",
       "      <th>num_episodes</th>\n",
       "      <th>picture</th>\n",
       "      <th>rating</th>\n",
       "      <th>status</th>\n",
       "      <th>start_date</th>\n",
       "      <th>end_date</th>\n",
       "      <th>y</th>\n",
       "    </tr>\n",
       "    <tr>\n",
       "      <th>anime_id</th>\n",
       "      <th></th>\n",
       "      <th></th>\n",
       "      <th></th>\n",
       "      <th></th>\n",
       "      <th></th>\n",
       "      <th></th>\n",
       "      <th></th>\n",
       "      <th></th>\n",
       "      <th></th>\n",
       "      <th></th>\n",
       "      <th></th>\n",
       "    </tr>\n",
       "  </thead>\n",
       "  <tbody>\n",
       "    <tr>\n",
       "      <th>483</th>\n",
       "      <td>Kurau Phantom Memory</td>\n",
       "      <td>Action</td>\n",
       "      <td>7.32</td>\n",
       "      <td>tv</td>\n",
       "      <td>24</td>\n",
       "      <td>https://api-cdn.myanimelist.net/images/anime/1...</td>\n",
       "      <td>pg_13</td>\n",
       "      <td>finished_airing</td>\n",
       "      <td>2004-06-25</td>\n",
       "      <td>2004-12-16</td>\n",
       "      <td>NaN</td>\n",
       "    </tr>\n",
       "  </tbody>\n",
       "</table>\n",
       "</div>"
      ],
      "text/plain": [
       "                         title   genre  mean_score media_type  num_episodes  \\\n",
       "anime_id                                                                      \n",
       "483       Kurau Phantom Memory  Action        7.32         tv            24   \n",
       "\n",
       "                                                    picture rating  \\\n",
       "anime_id                                                             \n",
       "483       https://api-cdn.myanimelist.net/images/anime/1...  pg_13   \n",
       "\n",
       "                   status  start_date    end_date   y  \n",
       "anime_id                                               \n",
       "483       finished_airing  2004-06-25  2004-12-16 NaN  "
      ]
     },
     "execution_count": 53,
     "metadata": {},
     "output_type": "execute_result"
    }
   ],
   "source": [
    "df_unlabeled.head(1)"
   ]
  },
  {
   "cell_type": "code",
   "execution_count": 54,
   "id": "7fde1116",
   "metadata": {},
   "outputs": [],
   "source": [
    "#Vectorizing the titles for the unlabeled data\n",
    "title_bow_unlabeled = word_vectorizer(title_train, df_unlabeled['title'], 1)[1]\n",
    "\n",
    "#Creating the features with the merge of title vectorized, num_episodes and mean_score\n",
    "X_unlabeled = hstack([df_unlabeled[['mean_score', 'num_episodes']], title_bow_unlabeled])"
   ]
  },
  {
   "cell_type": "code",
   "execution_count": 55,
   "id": "8477e24a",
   "metadata": {},
   "outputs": [],
   "source": [
    "#Creating a new columns in the dataframe with the probability score for each anime\n",
    "probability_score_unlabeled = mdl.predict_proba(X_unlabeled)[:, 1]\n",
    "df_unlabeled['p'] = probability_score_unlabeled"
   ]
  },
  {
   "cell_type": "code",
   "execution_count": 56,
   "id": "642ad068",
   "metadata": {},
   "outputs": [
    {
     "data": {
      "text/html": [
       "<div>\n",
       "<style scoped>\n",
       "    .dataframe tbody tr th:only-of-type {\n",
       "        vertical-align: middle;\n",
       "    }\n",
       "\n",
       "    .dataframe tbody tr th {\n",
       "        vertical-align: top;\n",
       "    }\n",
       "\n",
       "    .dataframe thead th {\n",
       "        text-align: right;\n",
       "    }\n",
       "</style>\n",
       "<table border=\"1\" class=\"dataframe\">\n",
       "  <thead>\n",
       "    <tr style=\"text-align: right;\">\n",
       "      <th></th>\n",
       "      <th>title</th>\n",
       "      <th>genre</th>\n",
       "      <th>mean_score</th>\n",
       "      <th>media_type</th>\n",
       "      <th>num_episodes</th>\n",
       "      <th>picture</th>\n",
       "      <th>rating</th>\n",
       "      <th>status</th>\n",
       "      <th>start_date</th>\n",
       "      <th>end_date</th>\n",
       "      <th>y</th>\n",
       "      <th>p</th>\n",
       "    </tr>\n",
       "    <tr>\n",
       "      <th>anime_id</th>\n",
       "      <th></th>\n",
       "      <th></th>\n",
       "      <th></th>\n",
       "      <th></th>\n",
       "      <th></th>\n",
       "      <th></th>\n",
       "      <th></th>\n",
       "      <th></th>\n",
       "      <th></th>\n",
       "      <th></th>\n",
       "      <th></th>\n",
       "      <th></th>\n",
       "    </tr>\n",
       "  </thead>\n",
       "  <tbody>\n",
       "    <tr>\n",
       "      <th>483</th>\n",
       "      <td>Kurau Phantom Memory</td>\n",
       "      <td>Action</td>\n",
       "      <td>7.32</td>\n",
       "      <td>tv</td>\n",
       "      <td>24</td>\n",
       "      <td>https://api-cdn.myanimelist.net/images/anime/1...</td>\n",
       "      <td>pg_13</td>\n",
       "      <td>finished_airing</td>\n",
       "      <td>2004-06-25</td>\n",
       "      <td>2004-12-16</td>\n",
       "      <td>NaN</td>\n",
       "      <td>0.003</td>\n",
       "    </tr>\n",
       "    <tr>\n",
       "      <th>485</th>\n",
       "      <td>Damekko Doubutsu</td>\n",
       "      <td>Anthropomorphic</td>\n",
       "      <td>7.26</td>\n",
       "      <td>tv</td>\n",
       "      <td>26</td>\n",
       "      <td>https://api-cdn.myanimelist.net/images/anime/1...</td>\n",
       "      <td>g</td>\n",
       "      <td>finished_airing</td>\n",
       "      <td>2005-01-17</td>\n",
       "      <td>2005-02-21</td>\n",
       "      <td>NaN</td>\n",
       "      <td>0.007</td>\n",
       "    </tr>\n",
       "    <tr>\n",
       "      <th>486</th>\n",
       "      <td>Kino no Tabi: The Beautiful World</td>\n",
       "      <td>Action</td>\n",
       "      <td>8.30</td>\n",
       "      <td>tv</td>\n",
       "      <td>13</td>\n",
       "      <td>https://api-cdn.myanimelist.net/images/anime/1...</td>\n",
       "      <td>r</td>\n",
       "      <td>finished_airing</td>\n",
       "      <td>2003-04-08</td>\n",
       "      <td>2003-07-08</td>\n",
       "      <td>NaN</td>\n",
       "      <td>0.277</td>\n",
       "    </tr>\n",
       "    <tr>\n",
       "      <th>488</th>\n",
       "      <td>Ichigo Mashimaro</td>\n",
       "      <td>CGDCT</td>\n",
       "      <td>7.64</td>\n",
       "      <td>tv</td>\n",
       "      <td>12</td>\n",
       "      <td>https://api-cdn.myanimelist.net/images/anime/1...</td>\n",
       "      <td>pg_13</td>\n",
       "      <td>finished_airing</td>\n",
       "      <td>2005-07-15</td>\n",
       "      <td>2005-10-14</td>\n",
       "      <td>NaN</td>\n",
       "      <td>0.069</td>\n",
       "    </tr>\n",
       "    <tr>\n",
       "      <th>489</th>\n",
       "      <td>Kamichu!</td>\n",
       "      <td>Comedy</td>\n",
       "      <td>7.38</td>\n",
       "      <td>tv</td>\n",
       "      <td>12</td>\n",
       "      <td>https://api-cdn.myanimelist.net/images/anime/3...</td>\n",
       "      <td>g</td>\n",
       "      <td>finished_airing</td>\n",
       "      <td>2005-06-29</td>\n",
       "      <td>2005-09-27</td>\n",
       "      <td>NaN</td>\n",
       "      <td>0.028</td>\n",
       "    </tr>\n",
       "  </tbody>\n",
       "</table>\n",
       "</div>"
      ],
      "text/plain": [
       "                                      title            genre  mean_score  \\\n",
       "anime_id                                                                   \n",
       "483                    Kurau Phantom Memory           Action        7.32   \n",
       "485                        Damekko Doubutsu  Anthropomorphic        7.26   \n",
       "486       Kino no Tabi: The Beautiful World           Action        8.30   \n",
       "488                        Ichigo Mashimaro            CGDCT        7.64   \n",
       "489                                Kamichu!           Comedy        7.38   \n",
       "\n",
       "         media_type  num_episodes  \\\n",
       "anime_id                            \n",
       "483              tv            24   \n",
       "485              tv            26   \n",
       "486              tv            13   \n",
       "488              tv            12   \n",
       "489              tv            12   \n",
       "\n",
       "                                                    picture rating  \\\n",
       "anime_id                                                             \n",
       "483       https://api-cdn.myanimelist.net/images/anime/1...  pg_13   \n",
       "485       https://api-cdn.myanimelist.net/images/anime/1...      g   \n",
       "486       https://api-cdn.myanimelist.net/images/anime/1...      r   \n",
       "488       https://api-cdn.myanimelist.net/images/anime/1...  pg_13   \n",
       "489       https://api-cdn.myanimelist.net/images/anime/3...      g   \n",
       "\n",
       "                   status  start_date    end_date   y      p  \n",
       "anime_id                                                      \n",
       "483       finished_airing  2004-06-25  2004-12-16 NaN  0.003  \n",
       "485       finished_airing  2005-01-17  2005-02-21 NaN  0.007  \n",
       "486       finished_airing  2003-04-08  2003-07-08 NaN  0.277  \n",
       "488       finished_airing  2005-07-15  2005-10-14 NaN  0.069  \n",
       "489       finished_airing  2005-06-29  2005-09-27 NaN  0.028  "
      ]
     },
     "execution_count": 56,
     "metadata": {},
     "output_type": "execute_result"
    }
   ],
   "source": [
    "df_unlabeled.head()"
   ]
  },
  {
   "cell_type": "code",
   "execution_count": 68,
   "id": "536e54cb",
   "metadata": {},
   "outputs": [
    {
     "data": {
      "text/plain": [
       "152"
      ]
     },
     "execution_count": 68,
     "metadata": {},
     "output_type": "execute_result"
    }
   ],
   "source": [
    "#Filtering about 160 samples from the dataset which the probability score is close to 0.5\n",
    "mask_unlabeled = (df_unlabeled['p'] >= 0.32) & (df_unlabeled['p'] <= 0.65)\n",
    "mask_unlabeled.sum()"
   ]
  },
  {
   "cell_type": "code",
   "execution_count": 69,
   "id": "65371574",
   "metadata": {},
   "outputs": [
    {
     "data": {
      "text/html": [
       "<div>\n",
       "<style scoped>\n",
       "    .dataframe tbody tr th:only-of-type {\n",
       "        vertical-align: middle;\n",
       "    }\n",
       "\n",
       "    .dataframe tbody tr th {\n",
       "        vertical-align: top;\n",
       "    }\n",
       "\n",
       "    .dataframe thead th {\n",
       "        text-align: right;\n",
       "    }\n",
       "</style>\n",
       "<table border=\"1\" class=\"dataframe\">\n",
       "  <thead>\n",
       "    <tr style=\"text-align: right;\">\n",
       "      <th></th>\n",
       "      <th>title</th>\n",
       "      <th>genre</th>\n",
       "      <th>mean_score</th>\n",
       "      <th>media_type</th>\n",
       "      <th>num_episodes</th>\n",
       "      <th>picture</th>\n",
       "      <th>rating</th>\n",
       "      <th>status</th>\n",
       "      <th>start_date</th>\n",
       "      <th>end_date</th>\n",
       "      <th>y</th>\n",
       "      <th>p</th>\n",
       "    </tr>\n",
       "    <tr>\n",
       "      <th>anime_id</th>\n",
       "      <th></th>\n",
       "      <th></th>\n",
       "      <th></th>\n",
       "      <th></th>\n",
       "      <th></th>\n",
       "      <th></th>\n",
       "      <th></th>\n",
       "      <th></th>\n",
       "      <th></th>\n",
       "      <th></th>\n",
       "      <th></th>\n",
       "      <th></th>\n",
       "    </tr>\n",
       "  </thead>\n",
       "  <tbody>\n",
       "    <tr>\n",
       "      <th>516</th>\n",
       "      <td>Keroro Gunsou</td>\n",
       "      <td>Comedy</td>\n",
       "      <td>7.69</td>\n",
       "      <td>tv</td>\n",
       "      <td>358</td>\n",
       "      <td>https://api-cdn.myanimelist.net/images/anime/2...</td>\n",
       "      <td>pg_13</td>\n",
       "      <td>finished_airing</td>\n",
       "      <td>2004-04-03</td>\n",
       "      <td>2011-04-04</td>\n",
       "      <td>NaN</td>\n",
       "      <td>0.415</td>\n",
       "    </tr>\n",
       "    <tr>\n",
       "      <th>527</th>\n",
       "      <td>Pokemon</td>\n",
       "      <td>Action</td>\n",
       "      <td>7.36</td>\n",
       "      <td>tv</td>\n",
       "      <td>276</td>\n",
       "      <td>https://api-cdn.myanimelist.net/images/anime/1...</td>\n",
       "      <td>pg</td>\n",
       "      <td>finished_airing</td>\n",
       "      <td>1997-04-01</td>\n",
       "      <td>2002-11-14</td>\n",
       "      <td>NaN</td>\n",
       "      <td>0.326</td>\n",
       "    </tr>\n",
       "  </tbody>\n",
       "</table>\n",
       "</div>"
      ],
      "text/plain": [
       "                  title   genre  mean_score media_type  num_episodes  \\\n",
       "anime_id                                                               \n",
       "516       Keroro Gunsou  Comedy        7.69         tv           358   \n",
       "527             Pokemon  Action        7.36         tv           276   \n",
       "\n",
       "                                                    picture rating  \\\n",
       "anime_id                                                             \n",
       "516       https://api-cdn.myanimelist.net/images/anime/2...  pg_13   \n",
       "527       https://api-cdn.myanimelist.net/images/anime/1...     pg   \n",
       "\n",
       "                   status  start_date    end_date   y      p  \n",
       "anime_id                                                      \n",
       "516       finished_airing  2004-04-03  2011-04-04 NaN  0.415  \n",
       "527       finished_airing  1997-04-01  2002-11-14 NaN  0.326  "
      ]
     },
     "execution_count": 69,
     "metadata": {},
     "output_type": "execute_result"
    }
   ],
   "source": [
    "#Creating a new df with this filtered data \n",
    "df_filtered = df_unlabeled[mask_unlabeled]\n",
    "df_filtered.head(2)"
   ]
  },
  {
   "cell_type": "code",
   "execution_count": 72,
   "id": "c8d2ddc2",
   "metadata": {},
   "outputs": [],
   "source": [
    "#Creating a second dataframe with 46 new random samples\n",
    "df_random = df_unlabeled[~mask_unlabeled].sample(48)"
   ]
  },
  {
   "cell_type": "code",
   "execution_count": 73,
   "id": "4148078e",
   "metadata": {},
   "outputs": [],
   "source": [
    "#Merge the 2 dataframes above and export for labeling\n",
    "df_merged = pd.concat([df_filtered, df_random])\n",
    "df_merged.to_csv(\"active_label3.csv\")"
   ]
  },
  {
   "cell_type": "markdown",
   "id": "c61f495c",
   "metadata": {},
   "source": [
    "## 6.0 Adding New Data to The Model"
   ]
  },
  {
   "cell_type": "code",
   "execution_count": 74,
   "id": "c6935e98",
   "metadata": {},
   "outputs": [
    {
     "data": {
      "text/plain": [
       "(200, 12)"
      ]
     },
     "execution_count": 74,
     "metadata": {},
     "output_type": "execute_result"
    }
   ],
   "source": [
    "#Creating a new dataframe with the new labeled data \n",
    "df_active_learning = pd.read_csv(\"active_label_done.csv\", index_col= 0)\n",
    "df_active_learning = df_active_learning[df_active_learning['y'].notnull()]\n",
    "df_active_learning.shape"
   ]
  },
  {
   "cell_type": "code",
   "execution_count": 75,
   "id": "d75ba984",
   "metadata": {},
   "outputs": [
    {
     "name": "stdout",
     "output_type": "stream",
     "text": [
      "0.6320046325995216 0.6760374832663989\n"
     ]
    }
   ],
   "source": [
    "#Check the score for the predictions\n",
    "print(average_precision_score(df_active_learning['y'], df_active_learning['p']),\n",
    "roc_auc_score(df_active_learning['y'], df_active_learning['p']))"
   ]
  },
  {
   "cell_type": "markdown",
   "id": "d540682e",
   "metadata": {},
   "source": [
    "### 6.1 Adding New Data to Test Set"
   ]
  },
  {
   "cell_type": "code",
   "execution_count": 81,
   "id": "07adfd4a",
   "metadata": {},
   "outputs": [],
   "source": [
    "#Concat the new data to test set\n",
    "X_test_plus = pd.concat([X_test, df_active_learning[['mean_score', 'num_episodes']]])\n",
    "y_test_plus = pd.concat([y_test, df_active_learning['y']])\n",
    "title_test_plus = pd.concat([title_test, df_active_learning['title']])"
   ]
  },
  {
   "cell_type": "code",
   "execution_count": 82,
   "id": "e45b0cb4",
   "metadata": {},
   "outputs": [],
   "source": [
    "#Vectorizig the new title bag of words\n",
    "title_bow_train, title_bow_test_plus = word_vectorizer(title_train, title_test_plus, 1)"
   ]
  },
  {
   "cell_type": "code",
   "execution_count": 83,
   "id": "47bb309b",
   "metadata": {},
   "outputs": [],
   "source": [
    "#Concat the title with the other features\n",
    "Xtest_plus = hstack([X_test_plus, title_bow_test_plus])"
   ]
  },
  {
   "cell_type": "code",
   "execution_count": 84,
   "id": "de247aa7",
   "metadata": {},
   "outputs": [],
   "source": [
    "#Predict the score for new test set\n",
    "mdl.fit(Xtrain, y_train)\n",
    "probability_score_test_plus = mdl.predict_proba(Xtest_plus)[:,1]"
   ]
  },
  {
   "cell_type": "code",
   "execution_count": 85,
   "id": "3371a0cc",
   "metadata": {},
   "outputs": [
    {
     "name": "stdout",
     "output_type": "stream",
     "text": [
      "0.6149893004819301 0.7838457336818696\n"
     ]
    }
   ],
   "source": [
    "print(average_precision_score(y_test_plus, probability_score_test_plus), \n",
    "      roc_auc_score(y_test_plus, probability_score_test_plus))"
   ]
  },
  {
   "cell_type": "markdown",
   "id": "ddc87fd7",
   "metadata": {},
   "source": [
    "### 6.2 Adding New Data to Training Set"
   ]
  },
  {
   "cell_type": "code",
   "execution_count": 95,
   "id": "3203beef",
   "metadata": {},
   "outputs": [],
   "source": [
    "#Concat the new data to training set\n",
    "X_train_plus = pd.concat([X_train, df_active_learning[['mean_score', 'num_episodes']]])\n",
    "y_train_plus = pd.concat([y_train, df_active_learning['y']])\n",
    "title_train_plus = pd.concat([title_train, df_active_learning['title']])"
   ]
  },
  {
   "cell_type": "code",
   "execution_count": 96,
   "id": "f298922f",
   "metadata": {},
   "outputs": [],
   "source": [
    "#Vectorizig the new title bag of words\n",
    "title_bow_train_plus, title_bow_test = word_vectorizer(title_train_plus, title_test, 1)"
   ]
  },
  {
   "cell_type": "code",
   "execution_count": 97,
   "id": "b972f032",
   "metadata": {},
   "outputs": [],
   "source": [
    "#Concat the title with the other features\n",
    "Xtrain_plus = hstack([X_train_plus, title_bow_train_plus])"
   ]
  },
  {
   "cell_type": "code",
   "execution_count": 98,
   "id": "b772d840",
   "metadata": {
    "scrolled": true
   },
   "outputs": [],
   "source": [
    "#Fit model with new training set\n",
    "mdl.fit(Xtrain_plus, y_train_plus)\n",
    "probability_score_train_plus = mdl.predict_proba(Xtest)[:, 1]"
   ]
  },
  {
   "cell_type": "code",
   "execution_count": 99,
   "id": "ddd5faba",
   "metadata": {},
   "outputs": [
    {
     "name": "stdout",
     "output_type": "stream",
     "text": [
      "0.5621024588519278 0.7926160044456794\n"
     ]
    }
   ],
   "source": [
    "print(average_precision_score(y_test, probability_score_train_plus), \n",
    "      roc_auc_score(y_test, probability_score_train_plus))"
   ]
  },
  {
   "cell_type": "markdown",
   "id": "de676c01",
   "metadata": {},
   "source": [
    "### 6.3 Adding New Data to All Set"
   ]
  },
  {
   "cell_type": "code",
   "execution_count": 222,
   "id": "d07c6bf2",
   "metadata": {},
   "outputs": [
    {
     "data": {
      "text/plain": [
       "((402, 2), (403, 2), (402,), (403,))"
      ]
     },
     "execution_count": 222,
     "metadata": {},
     "output_type": "execute_result"
    }
   ],
   "source": [
    "#Concat the datasets\n",
    "df_merged = pd.concat([df_animes_with_labels, df_active_learning])\n",
    "df_merged = df_merged.reset_index()\n",
    "#Split the data with labels\n",
    "X = df_merged[['mean_score', 'num_episodes']]\n",
    "y = df_merged['y'].copy()\n",
    "\n",
    "X_train, X_test, y_train, y_test = data_split(X, y, 0.5)\n",
    "X_train.shape, X_test.shape, y_train.shape, y_test.shape"
   ]
  },
  {
   "cell_type": "code",
   "execution_count": 202,
   "id": "fb0e7486",
   "metadata": {},
   "outputs": [],
   "source": [
    "#Split the titles in training and test\n",
    "title_train, title_test = X_split(df_merged['title'], 0.5)"
   ]
  },
  {
   "cell_type": "code",
   "execution_count": 203,
   "id": "c4a280b4",
   "metadata": {},
   "outputs": [],
   "source": [
    "#Vectorizer the titles \n",
    "title_bow_train, title_bow_test = word_vectorizer(title_train, title_test, 1)"
   ]
  },
  {
   "cell_type": "code",
   "execution_count": 204,
   "id": "b985664e",
   "metadata": {},
   "outputs": [],
   "source": [
    "#Merge the train and test data from title, mean_score and num_episodes\n",
    "Xtrain = hstack([X_train, title_bow_train])\n",
    "Xtest = hstack([X_test, title_bow_test])"
   ]
  },
  {
   "cell_type": "code",
   "execution_count": 205,
   "id": "1a88c41a",
   "metadata": {},
   "outputs": [],
   "source": [
    "mdl.fit(Xtrain, y_train)\n",
    "probability_score_all = mdl.predict_proba(Xtest)[:,1]"
   ]
  },
  {
   "cell_type": "code",
   "execution_count": 206,
   "id": "68703e52",
   "metadata": {},
   "outputs": [
    {
     "data": {
      "text/plain": [
       "(0.5938156353740196, 0.7491790856276839)"
      ]
     },
     "execution_count": 206,
     "metadata": {},
     "output_type": "execute_result"
    }
   ],
   "source": [
    "average_precision_score(y_test, probability_score_all), roc_auc_score(y_test, probability_score_all)"
   ]
  },
  {
   "cell_type": "markdown",
   "id": "13280ba5",
   "metadata": {},
   "source": [
    "## 7.0 Active Learning Performance\n",
    "\n",
    "#### Baseline\n",
    "\n",
    "(0.1905110498657493, 0.6720502770644681)\n",
    "\n",
    "---\n",
    "#### RandomForest + TfidfVectorizer\n",
    "\n",
    "(0.5458583250045408, 0.782126979716588)\n",
    "\n",
    "---\n",
    "#### Active learnig on all data set + RandomForest + TfidfVectorizer\n",
    "\n",
    "(0.6149893004819301, 0.7838457336818696)\n",
    " \n",
    "**With this results, this dataset is ready for modeling**\n"
   ]
  },
  {
   "cell_type": "markdown",
   "id": "e144635d",
   "metadata": {},
   "source": [
    "## 8.0 Save The Dataset"
   ]
  },
  {
   "cell_type": "code",
   "execution_count": 106,
   "id": "373de2c3",
   "metadata": {},
   "outputs": [],
   "source": [
    "def create_table(curr):\n",
    "    create_table_command = (\"\"\" CREATE TABLE IF NOT EXISTS animes_labeled (\n",
    "                            anime_id INT(255) PRIMARY KEY,\n",
    "                            title VARCHAR(120) NOT NULL,\n",
    "                            genre VARCHAR(120),\n",
    "                            mean_score FLOAT(3,2),\n",
    "                            media_type VARCHAR(15) NOT NULL,\n",
    "                            num_episodes INT(6),\n",
    "                            picture VARCHAR(200) NOT NULL,\n",
    "                            rating VARCHAR(15) NOT NULL,\n",
    "                            status VARCHAR(60) NOT NULL,\n",
    "                            start_date DATE NOT NULL,\n",
    "                            end_date DATE,\n",
    "                            y VARCHAR(2) NOT NULL\n",
    "                        )\"\"\")\n",
    "    \n",
    "    curr.execute(create_table_command)\n",
    "    return None"
   ]
  },
  {
   "cell_type": "code",
   "execution_count": 109,
   "id": "63226259",
   "metadata": {},
   "outputs": [],
   "source": [
    "def inster_into_table(curr, anime_id, title, genre, mean_score, media_type,\n",
    "    num_episodes, picture, rating, status, start_date, end_date, y):\n",
    "\n",
    "    insert = (\"\"\" INSERT INTO animes_labeled( anime_id,\n",
    "                title,             \n",
    "                genre,\n",
    "                mean_score,\n",
    "                media_type,\n",
    "                num_episodes,\n",
    "                picture,\n",
    "                rating,\n",
    "                status,\n",
    "                start_date,\n",
    "                end_date,\n",
    "                y)\n",
    "                VALUES(%s, %s, %s, %s ,%s ,%s ,%s ,%s ,%s ,%s, %s, %s)\n",
    "                \"\"\")\n",
    "    row_to_insert = (anime_id, title, genre, mean_score, media_type,\n",
    "    num_episodes, picture, rating, status, start_date, end_date, y)\n",
    "    \n",
    "    curr.execute(insert, row_to_insert)\n",
    "    \n",
    "    return None"
   ]
  },
  {
   "cell_type": "code",
   "execution_count": 107,
   "id": "816cf717",
   "metadata": {},
   "outputs": [],
   "source": [
    "def apprend_from_df_to_db(curr, df):\n",
    "    for i, row in df.iterrows():\n",
    "        inster_into_table(curr,row['anime_id'],  row['title'], row['genre'], row['mean_score'], row['media_type'], \n",
    "                       row['num_episodes'], row['picture'], row['rating'], row['status'], \n",
    "                       row['start_date'], row['end_date'], row['y'])\n",
    "    return None"
   ]
  },
  {
   "cell_type": "code",
   "execution_count": 220,
   "id": "883992fe",
   "metadata": {},
   "outputs": [
    {
     "name": "stdout",
     "output_type": "stream",
     "text": [
      "Connected!\n"
     ]
    }
   ],
   "source": [
    "#database credentials\n",
    "host_name = 'personalproject.crpcbnfr4nbk.us-east-1.rds.amazonaws.com'\n",
    "username = 'admin'\n",
    "password = 'ad5c7455'\n",
    "dbname = 'personal_projects'\n",
    "port = 3306\n",
    "conn = None\n",
    "\n",
    "#establish a connection to db\n",
    "conn = connect_to_db(host_name, username, password, dbname, port)\n",
    "curr = conn.cursor()"
   ]
  },
  {
   "cell_type": "code",
   "execution_count": 223,
   "id": "a36d4f0f",
   "metadata": {},
   "outputs": [],
   "source": [
    "#Cleaning the dataset\n",
    "df_merged = df_merged.drop('p', axis = 1)\n",
    "df_merged = df_merged.dropna()\n",
    "df_merged = df_merged.drop_duplicates()"
   ]
  },
  {
   "cell_type": "code",
   "execution_count": 185,
   "id": "b979b4c9",
   "metadata": {},
   "outputs": [],
   "source": [
    "#Create table\n",
    "create_table(curr)"
   ]
  },
  {
   "cell_type": "code",
   "execution_count": 224,
   "id": "ab0feb1d",
   "metadata": {},
   "outputs": [],
   "source": [
    "#insert new videos into db table\n",
    "apprend_from_df_to_db(curr, df_merged)\n",
    "conn.commit()"
   ]
  }
 ],
 "metadata": {
  "kernelspec": {
   "display_name": "Python 3 (ipykernel)",
   "language": "python",
   "name": "python3"
  },
  "language_info": {
   "codemirror_mode": {
    "name": "ipython",
    "version": 3
   },
   "file_extension": ".py",
   "mimetype": "text/x-python",
   "name": "python",
   "nbconvert_exporter": "python",
   "pygments_lexer": "ipython3",
   "version": "3.9.13"
  }
 },
 "nbformat": 4,
 "nbformat_minor": 5
}
